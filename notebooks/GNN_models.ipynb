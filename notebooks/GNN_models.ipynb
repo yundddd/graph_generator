{
 "cells": [
  {
   "cell_type": "markdown",
   "metadata": {
    "id": "rvUODUXl51x4"
   },
   "source": [
    "## Load simulated autonomous vehicle data"
   ]
  },
  {
   "cell_type": "code",
   "execution_count": 2,
   "metadata": {
    "colab": {
     "base_uri": "https://localhost:8080/"
    },
    "id": "0qjgtJKrlLdl",
    "outputId": "d94adbec-1b76-45ab-8d81-5874f8310ec0"
   },
   "outputs": [
    {
     "name": "stderr",
     "output_type": "stream",
     "text": [
      "Downloading: 100%|██████████████████████████████████████████████████████████████| 19.3M/19.3M [00:00<00:00, 45.9MB/s]\n"
     ]
    },
    {
     "name": "stdout",
     "output_type": "stream",
     "text": [
      "unzipping\n",
      "Unzipped to '/tmp/dataset/'\n"
     ]
    },
    {
     "data": {
      "text/plain": [
       "['drop_raw_camera1_receive',\n",
       " 'drop_raw_camera1_publish',\n",
       " 'crash_camera_driver1',\n",
       " 'crash_tracker',\n",
       " 'mutate_raw_camera1_publish']"
      ]
     },
     "execution_count": 2,
     "metadata": {},
     "output_type": "execute_result"
    }
   ],
   "source": [
    "import requests\n",
    "import zipfile\n",
    "import os\n",
    "from tqdm import tqdm\n",
    "\n",
    "DATASET_URL = \"https://github.com/yundddd/graph_generator/raw/master/graph_generator/dataset/autonomous_vehicle.zip\"\n",
    "TMP_DOWNLOAD_PATH = \"/tmp/downloaded\"\n",
    "TMP_DATASET_FOLDER = \"/tmp/dataset/\"\n",
    "\n",
    "def download_file_with_progress(url, output_path):\n",
    "    # Make a request to the URL\n",
    "    response = requests.get(url, stream=True)\n",
    "    total_size = int(response.headers.get('content-length', 0))  # Total size in bytes\n",
    "\n",
    "    # Progress bar setup\n",
    "    with open(output_path, 'wb') as file, tqdm(\n",
    "        desc=\"Downloading\",\n",
    "        total=total_size,\n",
    "        unit='B',\n",
    "        unit_scale=True,\n",
    "        unit_divisor=1024,\n",
    "        leave=True,\n",
    "    ) as bar:\n",
    "        # Download the file in chunks and update the progress bar\n",
    "        for data in response.iter_content(chunk_size=1024):\n",
    "            size = file.write(data)\n",
    "            bar.update(size)\n",
    "def unzip_file(zip_path, extract_to='.'):\n",
    "    print(\"unzipping\")\n",
    "    with zipfile.ZipFile(zip_path, 'r') as zip_ref:\n",
    "        zip_ref.extractall(extract_to)\n",
    "    print(f\"Unzipped to '{extract_to}'\")\n",
    "\n",
    "\n",
    "download_file_with_progress(DATASET_URL, TMP_DOWNLOAD_PATH)\n",
    "unzip_file(TMP_DOWNLOAD_PATH, TMP_DATASET_FOLDER)\n",
    "dataset_root = TMP_DATASET_FOLDER + \"/autonomous_vehicle\"\n",
    "subfolders = list(os.listdir(dataset_root))\n",
    "subfolders"
   ]
  }
 ],
 "metadata": {
  "accelerator": "GPU",
  "colab": {
   "authorship_tag": "ABX9TyMqMDZ1qte1KQO14M3ABqGr",
   "collapsed_sections": [
    "PheHlalcRe3v",
    "eJ3NyKrk6hal",
    "rvUODUXl51x4",
    "v7iKUu_g7MBD",
    "HR7mKapo7TAa",
    "iLQP2QnbTHIT"
   ],
   "gpuType": "A100",
   "include_colab_link": true,
   "machine_shape": "hm",
   "provenance": []
  },
  "kernelspec": {
   "display_name": "Python 3 (ipykernel)",
   "language": "python",
   "name": "python3"
  },
  "language_info": {
   "codemirror_mode": {
    "name": "ipython",
    "version": 3
   },
   "file_extension": ".py",
   "mimetype": "text/x-python",
   "name": "python",
   "nbconvert_exporter": "python",
   "pygments_lexer": "ipython3",
   "version": "3.11.6"
  }
 },
 "nbformat": 4,
 "nbformat_minor": 1
}
