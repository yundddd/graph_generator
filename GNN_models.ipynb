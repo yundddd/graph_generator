{
  "nbformat": 4,
  "nbformat_minor": 0,
  "metadata": {
    "colab": {
      "provenance": [],
      "collapsed_sections": [
        "PheHlalcRe3v",
        "eJ3NyKrk6hal",
        "v7iKUu_g7MBD",
        "HR7mKapo7TAa",
        "iLQP2QnbTHIT"
      ],
      "machine_shape": "hm",
      "gpuType": "A100",
      "authorship_tag": "ABX9TyMnFEHUgkEZo9AlI2k8xbeL",
      "include_colab_link": true
    },
    "kernelspec": {
      "name": "python3",
      "display_name": "Python 3"
    },
    "language_info": {
      "name": "python"
    },
    "accelerator": "GPU"
  },
  "cells": [
    {
      "cell_type": "markdown",
      "metadata": {
        "id": "view-in-github",
        "colab_type": "text"
      },
      "source": [
        "<a href=\"https://colab.research.google.com/github/yundddd/graph_generator/blob/models/GNN_models.ipynb\" target=\"_parent\"><img src=\"https://colab.research.google.com/assets/colab-badge.svg\" alt=\"Open In Colab\"/></a>"
      ]
    },
    {
      "cell_type": "markdown",
      "source": [
        "References:\n",
        "1. https://github.com/emalgorithm/directed-graph-neural-network/tree/main\n",
        "2. https://emanuelerossi.co.uk/blog/2023/dirgnn/"
      ],
      "metadata": {
        "id": "_Na7yuM2f9uk"
      }
    },
    {
      "cell_type": "markdown",
      "source": [
        "# Import dependencies"
      ],
      "metadata": {
        "id": "PheHlalcRe3v"
      }
    },
    {
      "cell_type": "code",
      "source": [
        "pip install pytorch_lightning"
      ],
      "metadata": {
        "colab": {
          "base_uri": "https://localhost:8080/"
        },
        "id": "I1oVULsT_oYI",
        "outputId": "6905907c-54c5-4789-d304-8e4d80fd5aa4"
      },
      "execution_count": 1,
      "outputs": [
        {
          "output_type": "stream",
          "name": "stdout",
          "text": [
            "Collecting pytorch_lightning\n",
            "  Downloading pytorch_lightning-2.4.0-py3-none-any.whl.metadata (21 kB)\n",
            "Requirement already satisfied: torch>=2.1.0 in /usr/local/lib/python3.10/dist-packages (from pytorch_lightning) (2.5.0+cu121)\n",
            "Requirement already satisfied: tqdm>=4.57.0 in /usr/local/lib/python3.10/dist-packages (from pytorch_lightning) (4.66.6)\n",
            "Requirement already satisfied: PyYAML>=5.4 in /usr/local/lib/python3.10/dist-packages (from pytorch_lightning) (6.0.2)\n",
            "Requirement already satisfied: fsspec>=2022.5.0 in /usr/local/lib/python3.10/dist-packages (from fsspec[http]>=2022.5.0->pytorch_lightning) (2024.10.0)\n",
            "Collecting torchmetrics>=0.7.0 (from pytorch_lightning)\n",
            "  Downloading torchmetrics-1.5.1-py3-none-any.whl.metadata (20 kB)\n",
            "Requirement already satisfied: packaging>=20.0 in /usr/local/lib/python3.10/dist-packages (from pytorch_lightning) (24.1)\n",
            "Requirement already satisfied: typing-extensions>=4.4.0 in /usr/local/lib/python3.10/dist-packages (from pytorch_lightning) (4.12.2)\n",
            "Collecting lightning-utilities>=0.10.0 (from pytorch_lightning)\n",
            "  Downloading lightning_utilities-0.11.8-py3-none-any.whl.metadata (5.2 kB)\n",
            "Requirement already satisfied: aiohttp!=4.0.0a0,!=4.0.0a1 in /usr/local/lib/python3.10/dist-packages (from fsspec[http]>=2022.5.0->pytorch_lightning) (3.10.10)\n",
            "Requirement already satisfied: setuptools in /usr/local/lib/python3.10/dist-packages (from lightning-utilities>=0.10.0->pytorch_lightning) (75.1.0)\n",
            "Requirement already satisfied: filelock in /usr/local/lib/python3.10/dist-packages (from torch>=2.1.0->pytorch_lightning) (3.16.1)\n",
            "Requirement already satisfied: networkx in /usr/local/lib/python3.10/dist-packages (from torch>=2.1.0->pytorch_lightning) (3.4.2)\n",
            "Requirement already satisfied: jinja2 in /usr/local/lib/python3.10/dist-packages (from torch>=2.1.0->pytorch_lightning) (3.1.4)\n",
            "Requirement already satisfied: sympy==1.13.1 in /usr/local/lib/python3.10/dist-packages (from torch>=2.1.0->pytorch_lightning) (1.13.1)\n",
            "Requirement already satisfied: mpmath<1.4,>=1.1.0 in /usr/local/lib/python3.10/dist-packages (from sympy==1.13.1->torch>=2.1.0->pytorch_lightning) (1.3.0)\n",
            "Requirement already satisfied: numpy<2.0,>1.20.0 in /usr/local/lib/python3.10/dist-packages (from torchmetrics>=0.7.0->pytorch_lightning) (1.26.4)\n",
            "Requirement already satisfied: aiohappyeyeballs>=2.3.0 in /usr/local/lib/python3.10/dist-packages (from aiohttp!=4.0.0a0,!=4.0.0a1->fsspec[http]>=2022.5.0->pytorch_lightning) (2.4.3)\n",
            "Requirement already satisfied: aiosignal>=1.1.2 in /usr/local/lib/python3.10/dist-packages (from aiohttp!=4.0.0a0,!=4.0.0a1->fsspec[http]>=2022.5.0->pytorch_lightning) (1.3.1)\n",
            "Requirement already satisfied: attrs>=17.3.0 in /usr/local/lib/python3.10/dist-packages (from aiohttp!=4.0.0a0,!=4.0.0a1->fsspec[http]>=2022.5.0->pytorch_lightning) (24.2.0)\n",
            "Requirement already satisfied: frozenlist>=1.1.1 in /usr/local/lib/python3.10/dist-packages (from aiohttp!=4.0.0a0,!=4.0.0a1->fsspec[http]>=2022.5.0->pytorch_lightning) (1.5.0)\n",
            "Requirement already satisfied: multidict<7.0,>=4.5 in /usr/local/lib/python3.10/dist-packages (from aiohttp!=4.0.0a0,!=4.0.0a1->fsspec[http]>=2022.5.0->pytorch_lightning) (6.1.0)\n",
            "Requirement already satisfied: yarl<2.0,>=1.12.0 in /usr/local/lib/python3.10/dist-packages (from aiohttp!=4.0.0a0,!=4.0.0a1->fsspec[http]>=2022.5.0->pytorch_lightning) (1.17.0)\n",
            "Requirement already satisfied: async-timeout<5.0,>=4.0 in /usr/local/lib/python3.10/dist-packages (from aiohttp!=4.0.0a0,!=4.0.0a1->fsspec[http]>=2022.5.0->pytorch_lightning) (4.0.3)\n",
            "Requirement already satisfied: MarkupSafe>=2.0 in /usr/local/lib/python3.10/dist-packages (from jinja2->torch>=2.1.0->pytorch_lightning) (3.0.2)\n",
            "Requirement already satisfied: idna>=2.0 in /usr/local/lib/python3.10/dist-packages (from yarl<2.0,>=1.12.0->aiohttp!=4.0.0a0,!=4.0.0a1->fsspec[http]>=2022.5.0->pytorch_lightning) (3.10)\n",
            "Requirement already satisfied: propcache>=0.2.0 in /usr/local/lib/python3.10/dist-packages (from yarl<2.0,>=1.12.0->aiohttp!=4.0.0a0,!=4.0.0a1->fsspec[http]>=2022.5.0->pytorch_lightning) (0.2.0)\n",
            "Downloading pytorch_lightning-2.4.0-py3-none-any.whl (815 kB)\n",
            "\u001b[2K   \u001b[90m━━━━━━━━━━━━━━━━━━━━━━━━━━━━━━━━━━━━━━━━\u001b[0m \u001b[32m815.2/815.2 kB\u001b[0m \u001b[31m12.5 MB/s\u001b[0m eta \u001b[36m0:00:00\u001b[0m\n",
            "\u001b[?25hDownloading lightning_utilities-0.11.8-py3-none-any.whl (26 kB)\n",
            "Downloading torchmetrics-1.5.1-py3-none-any.whl (890 kB)\n",
            "\u001b[2K   \u001b[90m━━━━━━━━━━━━━━━━━━━━━━━━━━━━━━━━━━━━━━━━\u001b[0m \u001b[32m890.6/890.6 kB\u001b[0m \u001b[31m41.5 MB/s\u001b[0m eta \u001b[36m0:00:00\u001b[0m\n",
            "\u001b[?25hInstalling collected packages: lightning-utilities, torchmetrics, pytorch_lightning\n",
            "Successfully installed lightning-utilities-0.11.8 pytorch_lightning-2.4.0 torchmetrics-1.5.1\n"
          ]
        }
      ]
    },
    {
      "cell_type": "code",
      "source": [
        "pip install torch_geometric"
      ],
      "metadata": {
        "colab": {
          "base_uri": "https://localhost:8080/"
        },
        "id": "HQHp3TWD_2Sv",
        "outputId": "776b3490-3370-45ba-92b5-1703e522f0a4"
      },
      "execution_count": 2,
      "outputs": [
        {
          "output_type": "stream",
          "name": "stdout",
          "text": [
            "Collecting torch_geometric\n",
            "  Downloading torch_geometric-2.6.1-py3-none-any.whl.metadata (63 kB)\n",
            "\u001b[?25l     \u001b[90m━━━━━━━━━━━━━━━━━━━━━━━━━━━━━━━━━━━━━━━━\u001b[0m \u001b[32m0.0/63.1 kB\u001b[0m \u001b[31m?\u001b[0m eta \u001b[36m-:--:--\u001b[0m\r\u001b[2K     \u001b[90m━━━━━━━━━━━━━━━━━━━━━━━━━━━━━━━━━━━━━━━━\u001b[0m \u001b[32m63.1/63.1 kB\u001b[0m \u001b[31m1.8 MB/s\u001b[0m eta \u001b[36m0:00:00\u001b[0m\n",
            "\u001b[?25hRequirement already satisfied: aiohttp in /usr/local/lib/python3.10/dist-packages (from torch_geometric) (3.10.10)\n",
            "Requirement already satisfied: fsspec in /usr/local/lib/python3.10/dist-packages (from torch_geometric) (2024.10.0)\n",
            "Requirement already satisfied: jinja2 in /usr/local/lib/python3.10/dist-packages (from torch_geometric) (3.1.4)\n",
            "Requirement already satisfied: numpy in /usr/local/lib/python3.10/dist-packages (from torch_geometric) (1.26.4)\n",
            "Requirement already satisfied: psutil>=5.8.0 in /usr/local/lib/python3.10/dist-packages (from torch_geometric) (5.9.5)\n",
            "Requirement already satisfied: pyparsing in /usr/local/lib/python3.10/dist-packages (from torch_geometric) (3.2.0)\n",
            "Requirement already satisfied: requests in /usr/local/lib/python3.10/dist-packages (from torch_geometric) (2.32.3)\n",
            "Requirement already satisfied: tqdm in /usr/local/lib/python3.10/dist-packages (from torch_geometric) (4.66.6)\n",
            "Requirement already satisfied: aiohappyeyeballs>=2.3.0 in /usr/local/lib/python3.10/dist-packages (from aiohttp->torch_geometric) (2.4.3)\n",
            "Requirement already satisfied: aiosignal>=1.1.2 in /usr/local/lib/python3.10/dist-packages (from aiohttp->torch_geometric) (1.3.1)\n",
            "Requirement already satisfied: attrs>=17.3.0 in /usr/local/lib/python3.10/dist-packages (from aiohttp->torch_geometric) (24.2.0)\n",
            "Requirement already satisfied: frozenlist>=1.1.1 in /usr/local/lib/python3.10/dist-packages (from aiohttp->torch_geometric) (1.5.0)\n",
            "Requirement already satisfied: multidict<7.0,>=4.5 in /usr/local/lib/python3.10/dist-packages (from aiohttp->torch_geometric) (6.1.0)\n",
            "Requirement already satisfied: yarl<2.0,>=1.12.0 in /usr/local/lib/python3.10/dist-packages (from aiohttp->torch_geometric) (1.17.0)\n",
            "Requirement already satisfied: async-timeout<5.0,>=4.0 in /usr/local/lib/python3.10/dist-packages (from aiohttp->torch_geometric) (4.0.3)\n",
            "Requirement already satisfied: MarkupSafe>=2.0 in /usr/local/lib/python3.10/dist-packages (from jinja2->torch_geometric) (3.0.2)\n",
            "Requirement already satisfied: charset-normalizer<4,>=2 in /usr/local/lib/python3.10/dist-packages (from requests->torch_geometric) (3.4.0)\n",
            "Requirement already satisfied: idna<4,>=2.5 in /usr/local/lib/python3.10/dist-packages (from requests->torch_geometric) (3.10)\n",
            "Requirement already satisfied: urllib3<3,>=1.21.1 in /usr/local/lib/python3.10/dist-packages (from requests->torch_geometric) (2.2.3)\n",
            "Requirement already satisfied: certifi>=2017.4.17 in /usr/local/lib/python3.10/dist-packages (from requests->torch_geometric) (2024.8.30)\n",
            "Requirement already satisfied: typing-extensions>=4.1.0 in /usr/local/lib/python3.10/dist-packages (from multidict<7.0,>=4.5->aiohttp->torch_geometric) (4.12.2)\n",
            "Requirement already satisfied: propcache>=0.2.0 in /usr/local/lib/python3.10/dist-packages (from yarl<2.0,>=1.12.0->aiohttp->torch_geometric) (0.2.0)\n",
            "Downloading torch_geometric-2.6.1-py3-none-any.whl (1.1 MB)\n",
            "\u001b[2K   \u001b[90m━━━━━━━━━━━━━━━━━━━━━━━━━━━━━━━━━━━━━━━━\u001b[0m \u001b[32m1.1/1.1 MB\u001b[0m \u001b[31m18.7 MB/s\u001b[0m eta \u001b[36m0:00:00\u001b[0m\n",
            "\u001b[?25hInstalling collected packages: torch_geometric\n",
            "Successfully installed torch_geometric-2.6.1\n"
          ]
        }
      ]
    },
    {
      "cell_type": "code",
      "source": [
        "import torch\n",
        "from torch import nn, optim\n",
        "import pytorch_lightning as pl\n",
        "#from torch_sparse import SparseTensor\n",
        "import torch.nn.functional as F\n",
        "from torch.nn import ModuleList, Linear\n",
        "from torch_geometric.nn import (\n",
        "    SAGEConv,\n",
        "    GCNConv,\n",
        "    GATConv,\n",
        ")\n",
        "import torch\n",
        "import networkx as nx\n",
        "import numpy as np\n",
        "import os\n",
        "import os.path as osp\n",
        "import pandas as pd\n",
        "from torch_geometric.data import Data, Dataset, InMemoryDataset, download_url\n",
        "import matplotlib.pyplot as plt"
      ],
      "metadata": {
        "id": "LN1Jcxq__Rzp"
      },
      "execution_count": 3,
      "outputs": []
    },
    {
      "cell_type": "code",
      "source": [
        "from google.colab import drive\n",
        "drive.mount('/content/drive')"
      ],
      "metadata": {
        "colab": {
          "base_uri": "https://localhost:8080/"
        },
        "id": "mW0env6kASOQ",
        "outputId": "7227d9c8-4d94-4216-ac55-2a21fdd937b5"
      },
      "execution_count": 4,
      "outputs": [
        {
          "output_type": "stream",
          "name": "stdout",
          "text": [
            "Mounted at /content/drive\n"
          ]
        }
      ]
    },
    {
      "cell_type": "markdown",
      "source": [
        "#Load PyG dataset"
      ],
      "metadata": {
        "id": "eJ3NyKrk6hal"
      }
    },
    {
      "cell_type": "code",
      "source": [
        "from torch_geometric.data import Data, DataLoader"
      ],
      "metadata": {
        "id": "MoB5fs3jYcbY"
      },
      "execution_count": 5,
      "outputs": []
    },
    {
      "cell_type": "code",
      "source": [
        "FEATURE_DIMENSION = 9\n",
        "TIMESTAMP_FEATURE_INDEX = 3\n",
        "HEALTHY_NODE_LABEL = 0\n",
        "ROOT_CAUSE_NODE_LABEL = 1"
      ],
      "metadata": {
        "id": "xJDo5PNCp24K"
      },
      "execution_count": 6,
      "outputs": []
    },
    {
      "cell_type": "code",
      "source": [
        "class SimulatedDataset():\n",
        "  def __init__(self, edge_idx_path, node_features_path, fault_label_path):\n",
        "    self.edge_idx_path = edge_idx_path\n",
        "    self.node_features_path = node_features_path\n",
        "    self.fault_label_path = fault_label_path\n",
        "\n",
        "    self.edge_index = self.get_edge_index(self.edge_idx_path)\n",
        "    self.node_features, self.node_labels = self.get_node_features(self.node_features_path, self.fault_label_path)\n",
        "    self.dataset_stats()\n",
        "\n",
        "\n",
        "  def get_edge_index(self, path):\n",
        "      edges = []\n",
        "      with open(path, \"r\") as output:\n",
        "        i = 0\n",
        "        for line in output:\n",
        "          edge = line.strip().split(',')\n",
        "          edges.append([int(edge[0]), int(edge[1])])\n",
        "      return torch.tensor(edges, dtype=torch.long).t().contiguous() # put edges into COO format\n",
        "\n",
        "  def get_node_at_fault(self, path):\n",
        "    node_at_fault, timestamp_of_fault = 0, 0\n",
        "    with open(fault_label_path, \"r\") as output:\n",
        "      ind = 0\n",
        "      for line in output:\n",
        "        node_at_fault, timestamp_of_fault = line.strip().split(',')\n",
        "        ind += 1\n",
        "      assert ind == 1 # there should only be one line in this file\n",
        "    return int(node_at_fault), int(timestamp_of_fault)\n",
        "\n",
        "  def get_node_features(self, node_features_path, fault_label_path):\n",
        "    node_features, node_labels = [], []\n",
        "    node_at_fault, timestamp_of_fault = self.get_node_at_fault(fault_label_path)\n",
        "    with open(node_features_path, \"r\") as output:\n",
        "      for line in output:\n",
        "        items = line.strip().split(',')\n",
        "        features = [list(map(int, items[i + 1 : i + FEATURE_DIMENSION + 1]))\n",
        "                          for i in range(0, len(items), FEATURE_DIMENSION + 1)]\n",
        "        time = max([node[TIMESTAMP_FEATURE_INDEX] for node in features]) # features[node_at_fault][TIMESTAMP_FEATURE_INDEX]\n",
        "        features = torch.tensor(features)\n",
        "        node_features.append(features)\n",
        "        labels = [HEALTHY_NODE_LABEL] * features.shape[0]\n",
        "        if time >= timestamp_of_fault:\n",
        "          labels[node_at_fault] = ROOT_CAUSE_NODE_LABEL\n",
        "        labels = torch.tensor(labels).reshape(features.shape[0])\n",
        "        node_labels.append(labels)\n",
        "    return node_features, node_labels\n",
        "\n",
        "  def dataset_stats(self):\n",
        "    self.feature_dimension = self.node_features[0].shape[1]\n",
        "    self.num_nodes = self.node_features[0].shape[0]\n",
        "    self.num_edges = self.edge_index.shape[1]\n",
        "    self.num_graphs = len(self.node_features)\n",
        "    self.num_classes = 2\n",
        "\n",
        "  def report_dataset_stats(self):\n",
        "    print(f'Number of nodes: {self.num_nodes}')\n",
        "    print(f'Number of edges: {self.num_edges}')\n",
        "    print(f'Number of graphs: {self.num_graphs}')\n",
        "    print(f'Number of classes: {self.num_classes}')\n",
        "    print(f'Feature dimension: {self.feature_dimension}')\n",
        "    print(f'Node features: {self.node_features}')\n",
        "    print(f'Node labels: {self.node_labels}')\n",
        "    print(f'Edge index: {self.edge_index}')"
      ],
      "metadata": {
        "id": "2sK6fpTPfeox"
      },
      "execution_count": 7,
      "outputs": []
    },
    {
      "cell_type": "markdown",
      "source": [
        "## Load simulated autonomous vehicle data"
      ],
      "metadata": {
        "id": "rvUODUXl51x4"
      }
    },
    {
      "cell_type": "code",
      "source": [
        "auto_vehicle_folder = '/content/drive/MyDrive/CS224 Project/autonomous_vehicle'"
      ],
      "metadata": {
        "id": "TItRbzJvk632"
      },
      "execution_count": 8,
      "outputs": []
    },
    {
      "cell_type": "code",
      "source": [
        "subfolders = list(os.listdir(auto_vehicle_folder))\n",
        "subfolders.remove('.DS_Store')\n",
        "subfolders"
      ],
      "metadata": {
        "colab": {
          "base_uri": "https://localhost:8080/"
        },
        "id": "0qjgtJKrlLdl",
        "outputId": "b1ae59f7-b321-4985-cf85-3bd8c4e00fb9"
      },
      "execution_count": 9,
      "outputs": [
        {
          "output_type": "execute_result",
          "data": {
            "text/plain": [
              "['crash_camera_driver1',\n",
              " 'crash_tracker',\n",
              " 'drop_raw_camera1_publish',\n",
              " 'drop_raw_camera1_receive',\n",
              " 'mutate_raw_camera1_publish']"
            ]
          },
          "metadata": {},
          "execution_count": 9
        }
      ]
    },
    {
      "cell_type": "code",
      "source": [
        "def get_injection_time(file_name):\n",
        "  return file_name.split('_')[-1].split('.')[0]"
      ],
      "metadata": {
        "id": "cwI-ZLrclayl"
      },
      "execution_count": 10,
      "outputs": []
    },
    {
      "cell_type": "code",
      "source": [
        "raw_data_path = {}\n",
        "for subfolder in subfolders:\n",
        "  subfolder_path = os.path.join(auto_vehicle_folder, subfolder)\n",
        "  raw_data_path[subfolder] = {}\n",
        "\n",
        "  for file_name in os.listdir(subfolder_path):\n",
        "    if 'inject' in file_name:\n",
        "      injection_time = get_injection_time(file_name)\n",
        "      node_features_path = os.path.join(subfolder_path, f'node_feature_inject_at_{injection_time}.csv')\n",
        "      fault_label_path = os.path.join(subfolder_path, f'fault_label_inject_at_{injection_time}.csv')\n",
        "      edge_idx_path = os.path.join(subfolder_path, 'edge_index.csv')\n",
        "      raw_data_path[subfolder][injection_time] = {}\n",
        "      raw_data_path[subfolder][injection_time]['node_features_path'] = node_features_path\n",
        "      raw_data_path[subfolder][injection_time]['fault_label_path'] = fault_label_path\n",
        "      raw_data_path[subfolder][injection_time]['edge_idx_path'] = edge_idx_path"
      ],
      "metadata": {
        "id": "cRyUSggFl5Te"
      },
      "execution_count": 32,
      "outputs": []
    },
    {
      "cell_type": "code",
      "source": [
        "sum([len(raw_data_path[subfolders[i]]) for i in range(len(subfolders))])"
      ],
      "metadata": {
        "colab": {
          "base_uri": "https://localhost:8080/"
        },
        "id": "Ebr69gpu2u-L",
        "outputId": "c47a58b7-0f12-452a-ecbb-d321cd1c0cb3"
      },
      "execution_count": 21,
      "outputs": [
        {
          "output_type": "execute_result",
          "data": {
            "text/plain": [
              "200"
            ]
          },
          "metadata": {},
          "execution_count": 21
        }
      ]
    },
    {
      "cell_type": "code",
      "source": [
        "subfolders"
      ],
      "metadata": {
        "colab": {
          "base_uri": "https://localhost:8080/"
        },
        "id": "FJX9DaVv2-pb",
        "outputId": "80b9a133-8aa2-47aa-8669-8ccf1a22e644"
      },
      "execution_count": 22,
      "outputs": [
        {
          "output_type": "execute_result",
          "data": {
            "text/plain": [
              "['crash_camera_driver1',\n",
              " 'crash_tracker',\n",
              " 'drop_raw_camera1_publish',\n",
              " 'drop_raw_camera1_receive',\n",
              " 'mutate_raw_camera1_publish']"
            ]
          },
          "metadata": {},
          "execution_count": 22
        }
      ]
    },
    {
      "cell_type": "code",
      "source": [
        "instance = raw_data_path[subfolders[0]]['1100']"
      ],
      "metadata": {
        "id": "SMQUhAoM90yq"
      },
      "execution_count": 33,
      "outputs": []
    },
    {
      "cell_type": "code",
      "source": [
        "instance"
      ],
      "metadata": {
        "colab": {
          "base_uri": "https://localhost:8080/"
        },
        "id": "IuX_3wa991v-",
        "outputId": "3ef71506-fed6-4537-9309-32eacb0b014c"
      },
      "execution_count": 34,
      "outputs": [
        {
          "output_type": "execute_result",
          "data": {
            "text/plain": [
              "{'node_features_path': '/content/drive/MyDrive/CS224 Project/autonomous_vehicle/crash_camera_driver1/node_feature_inject_at_1100.csv',\n",
              " 'fault_label_path': '/content/drive/MyDrive/CS224 Project/autonomous_vehicle/crash_camera_driver1/fault_label_inject_at_1100.csv',\n",
              " 'edge_idx_path': '/content/drive/MyDrive/CS224 Project/autonomous_vehicle/crash_camera_driver1/edge_index.csv'}"
            ]
          },
          "metadata": {},
          "execution_count": 34
        }
      ]
    },
    {
      "cell_type": "code",
      "source": [
        "instance = raw_data_path[subfolders[0]]['1100']\n",
        "pyg_dataset = SimulatedDataset(instance['edge_idx_path'], instance['node_features_path'], instance['fault_label_path'])"
      ],
      "metadata": {
        "id": "1WnnwPUlhTme"
      },
      "execution_count": 35,
      "outputs": []
    },
    {
      "cell_type": "code",
      "source": [
        "data_list = []\n",
        "for i in range(pyg_dataset.num_graphs):\n",
        "    x = pyg_dataset.node_features[i]\n",
        "    y = pyg_dataset.node_labels[i]\n",
        "    edge_index = pyg_dataset.edge_index\n",
        "\n",
        "    graph_data = Data(x=x, y=y, edge_index=edge_index)\n",
        "    data_list.append(graph_data)"
      ],
      "metadata": {
        "id": "VBOH9AT1lZoU"
      },
      "execution_count": 36,
      "outputs": []
    },
    {
      "cell_type": "code",
      "source": [
        "data_list"
      ],
      "metadata": {
        "colab": {
          "base_uri": "https://localhost:8080/"
        },
        "id": "1HpTzibKl10I",
        "outputId": "8cb7f7b6-1f44-4123-ffdd-68533f443783"
      },
      "execution_count": 37,
      "outputs": [
        {
          "output_type": "execute_result",
          "data": {
            "text/plain": [
              "[Data(x=[29, 9], edge_index=[2, 41], y=[29]),\n",
              " Data(x=[29, 9], edge_index=[2, 41], y=[29]),\n",
              " Data(x=[29, 9], edge_index=[2, 41], y=[29]),\n",
              " Data(x=[29, 9], edge_index=[2, 41], y=[29]),\n",
              " Data(x=[29, 9], edge_index=[2, 41], y=[29]),\n",
              " Data(x=[29, 9], edge_index=[2, 41], y=[29]),\n",
              " Data(x=[29, 9], edge_index=[2, 41], y=[29]),\n",
              " Data(x=[29, 9], edge_index=[2, 41], y=[29]),\n",
              " Data(x=[29, 9], edge_index=[2, 41], y=[29]),\n",
              " Data(x=[29, 9], edge_index=[2, 41], y=[29]),\n",
              " Data(x=[29, 9], edge_index=[2, 41], y=[29]),\n",
              " Data(x=[29, 9], edge_index=[2, 41], y=[29]),\n",
              " Data(x=[29, 9], edge_index=[2, 41], y=[29]),\n",
              " Data(x=[29, 9], edge_index=[2, 41], y=[29]),\n",
              " Data(x=[29, 9], edge_index=[2, 41], y=[29]),\n",
              " Data(x=[29, 9], edge_index=[2, 41], y=[29]),\n",
              " Data(x=[29, 9], edge_index=[2, 41], y=[29]),\n",
              " Data(x=[29, 9], edge_index=[2, 41], y=[29]),\n",
              " Data(x=[29, 9], edge_index=[2, 41], y=[29]),\n",
              " Data(x=[29, 9], edge_index=[2, 41], y=[29]),\n",
              " Data(x=[29, 9], edge_index=[2, 41], y=[29]),\n",
              " Data(x=[29, 9], edge_index=[2, 41], y=[29]),\n",
              " Data(x=[29, 9], edge_index=[2, 41], y=[29]),\n",
              " Data(x=[29, 9], edge_index=[2, 41], y=[29]),\n",
              " Data(x=[29, 9], edge_index=[2, 41], y=[29]),\n",
              " Data(x=[29, 9], edge_index=[2, 41], y=[29]),\n",
              " Data(x=[29, 9], edge_index=[2, 41], y=[29]),\n",
              " Data(x=[29, 9], edge_index=[2, 41], y=[29]),\n",
              " Data(x=[29, 9], edge_index=[2, 41], y=[29]),\n",
              " Data(x=[29, 9], edge_index=[2, 41], y=[29]),\n",
              " Data(x=[29, 9], edge_index=[2, 41], y=[29]),\n",
              " Data(x=[29, 9], edge_index=[2, 41], y=[29]),\n",
              " Data(x=[29, 9], edge_index=[2, 41], y=[29]),\n",
              " Data(x=[29, 9], edge_index=[2, 41], y=[29]),\n",
              " Data(x=[29, 9], edge_index=[2, 41], y=[29]),\n",
              " Data(x=[29, 9], edge_index=[2, 41], y=[29]),\n",
              " Data(x=[29, 9], edge_index=[2, 41], y=[29]),\n",
              " Data(x=[29, 9], edge_index=[2, 41], y=[29]),\n",
              " Data(x=[29, 9], edge_index=[2, 41], y=[29]),\n",
              " Data(x=[29, 9], edge_index=[2, 41], y=[29]),\n",
              " Data(x=[29, 9], edge_index=[2, 41], y=[29]),\n",
              " Data(x=[29, 9], edge_index=[2, 41], y=[29]),\n",
              " Data(x=[29, 9], edge_index=[2, 41], y=[29]),\n",
              " Data(x=[29, 9], edge_index=[2, 41], y=[29]),\n",
              " Data(x=[29, 9], edge_index=[2, 41], y=[29]),\n",
              " Data(x=[29, 9], edge_index=[2, 41], y=[29]),\n",
              " Data(x=[29, 9], edge_index=[2, 41], y=[29]),\n",
              " Data(x=[29, 9], edge_index=[2, 41], y=[29]),\n",
              " Data(x=[29, 9], edge_index=[2, 41], y=[29]),\n",
              " Data(x=[29, 9], edge_index=[2, 41], y=[29]),\n",
              " Data(x=[29, 9], edge_index=[2, 41], y=[29]),\n",
              " Data(x=[29, 9], edge_index=[2, 41], y=[29]),\n",
              " Data(x=[29, 9], edge_index=[2, 41], y=[29]),\n",
              " Data(x=[29, 9], edge_index=[2, 41], y=[29]),\n",
              " Data(x=[29, 9], edge_index=[2, 41], y=[29]),\n",
              " Data(x=[29, 9], edge_index=[2, 41], y=[29]),\n",
              " Data(x=[29, 9], edge_index=[2, 41], y=[29]),\n",
              " Data(x=[29, 9], edge_index=[2, 41], y=[29]),\n",
              " Data(x=[29, 9], edge_index=[2, 41], y=[29]),\n",
              " Data(x=[29, 9], edge_index=[2, 41], y=[29]),\n",
              " Data(x=[29, 9], edge_index=[2, 41], y=[29]),\n",
              " Data(x=[29, 9], edge_index=[2, 41], y=[29]),\n",
              " Data(x=[29, 9], edge_index=[2, 41], y=[29]),\n",
              " Data(x=[29, 9], edge_index=[2, 41], y=[29]),\n",
              " Data(x=[29, 9], edge_index=[2, 41], y=[29]),\n",
              " Data(x=[29, 9], edge_index=[2, 41], y=[29]),\n",
              " Data(x=[29, 9], edge_index=[2, 41], y=[29]),\n",
              " Data(x=[29, 9], edge_index=[2, 41], y=[29]),\n",
              " Data(x=[29, 9], edge_index=[2, 41], y=[29]),\n",
              " Data(x=[29, 9], edge_index=[2, 41], y=[29]),\n",
              " Data(x=[29, 9], edge_index=[2, 41], y=[29]),\n",
              " Data(x=[29, 9], edge_index=[2, 41], y=[29]),\n",
              " Data(x=[29, 9], edge_index=[2, 41], y=[29]),\n",
              " Data(x=[29, 9], edge_index=[2, 41], y=[29]),\n",
              " Data(x=[29, 9], edge_index=[2, 41], y=[29]),\n",
              " Data(x=[29, 9], edge_index=[2, 41], y=[29]),\n",
              " Data(x=[29, 9], edge_index=[2, 41], y=[29]),\n",
              " Data(x=[29, 9], edge_index=[2, 41], y=[29]),\n",
              " Data(x=[29, 9], edge_index=[2, 41], y=[29]),\n",
              " Data(x=[29, 9], edge_index=[2, 41], y=[29]),\n",
              " Data(x=[29, 9], edge_index=[2, 41], y=[29]),\n",
              " Data(x=[29, 9], edge_index=[2, 41], y=[29]),\n",
              " Data(x=[29, 9], edge_index=[2, 41], y=[29]),\n",
              " Data(x=[29, 9], edge_index=[2, 41], y=[29]),\n",
              " Data(x=[29, 9], edge_index=[2, 41], y=[29]),\n",
              " Data(x=[29, 9], edge_index=[2, 41], y=[29]),\n",
              " Data(x=[29, 9], edge_index=[2, 41], y=[29]),\n",
              " Data(x=[29, 9], edge_index=[2, 41], y=[29]),\n",
              " Data(x=[29, 9], edge_index=[2, 41], y=[29]),\n",
              " Data(x=[29, 9], edge_index=[2, 41], y=[29]),\n",
              " Data(x=[29, 9], edge_index=[2, 41], y=[29]),\n",
              " Data(x=[29, 9], edge_index=[2, 41], y=[29]),\n",
              " Data(x=[29, 9], edge_index=[2, 41], y=[29]),\n",
              " Data(x=[29, 9], edge_index=[2, 41], y=[29]),\n",
              " Data(x=[29, 9], edge_index=[2, 41], y=[29]),\n",
              " Data(x=[29, 9], edge_index=[2, 41], y=[29]),\n",
              " Data(x=[29, 9], edge_index=[2, 41], y=[29]),\n",
              " Data(x=[29, 9], edge_index=[2, 41], y=[29]),\n",
              " Data(x=[29, 9], edge_index=[2, 41], y=[29]),\n",
              " Data(x=[29, 9], edge_index=[2, 41], y=[29]),\n",
              " Data(x=[29, 9], edge_index=[2, 41], y=[29]),\n",
              " Data(x=[29, 9], edge_index=[2, 41], y=[29]),\n",
              " Data(x=[29, 9], edge_index=[2, 41], y=[29]),\n",
              " Data(x=[29, 9], edge_index=[2, 41], y=[29]),\n",
              " Data(x=[29, 9], edge_index=[2, 41], y=[29]),\n",
              " Data(x=[29, 9], edge_index=[2, 41], y=[29]),\n",
              " Data(x=[29, 9], edge_index=[2, 41], y=[29]),\n",
              " Data(x=[29, 9], edge_index=[2, 41], y=[29]),\n",
              " Data(x=[29, 9], edge_index=[2, 41], y=[29]),\n",
              " Data(x=[29, 9], edge_index=[2, 41], y=[29]),\n",
              " Data(x=[29, 9], edge_index=[2, 41], y=[29]),\n",
              " Data(x=[29, 9], edge_index=[2, 41], y=[29]),\n",
              " Data(x=[29, 9], edge_index=[2, 41], y=[29]),\n",
              " Data(x=[29, 9], edge_index=[2, 41], y=[29]),\n",
              " Data(x=[29, 9], edge_index=[2, 41], y=[29]),\n",
              " Data(x=[29, 9], edge_index=[2, 41], y=[29]),\n",
              " Data(x=[29, 9], edge_index=[2, 41], y=[29]),\n",
              " Data(x=[29, 9], edge_index=[2, 41], y=[29]),\n",
              " Data(x=[29, 9], edge_index=[2, 41], y=[29]),\n",
              " Data(x=[29, 9], edge_index=[2, 41], y=[29]),\n",
              " Data(x=[29, 9], edge_index=[2, 41], y=[29]),\n",
              " Data(x=[29, 9], edge_index=[2, 41], y=[29]),\n",
              " Data(x=[29, 9], edge_index=[2, 41], y=[29]),\n",
              " Data(x=[29, 9], edge_index=[2, 41], y=[29]),\n",
              " Data(x=[29, 9], edge_index=[2, 41], y=[29]),\n",
              " Data(x=[29, 9], edge_index=[2, 41], y=[29]),\n",
              " Data(x=[29, 9], edge_index=[2, 41], y=[29]),\n",
              " Data(x=[29, 9], edge_index=[2, 41], y=[29]),\n",
              " Data(x=[29, 9], edge_index=[2, 41], y=[29]),\n",
              " Data(x=[29, 9], edge_index=[2, 41], y=[29]),\n",
              " Data(x=[29, 9], edge_index=[2, 41], y=[29]),\n",
              " Data(x=[29, 9], edge_index=[2, 41], y=[29]),\n",
              " Data(x=[29, 9], edge_index=[2, 41], y=[29]),\n",
              " Data(x=[29, 9], edge_index=[2, 41], y=[29]),\n",
              " Data(x=[29, 9], edge_index=[2, 41], y=[29]),\n",
              " Data(x=[29, 9], edge_index=[2, 41], y=[29]),\n",
              " Data(x=[29, 9], edge_index=[2, 41], y=[29]),\n",
              " Data(x=[29, 9], edge_index=[2, 41], y=[29]),\n",
              " Data(x=[29, 9], edge_index=[2, 41], y=[29]),\n",
              " Data(x=[29, 9], edge_index=[2, 41], y=[29]),\n",
              " Data(x=[29, 9], edge_index=[2, 41], y=[29]),\n",
              " Data(x=[29, 9], edge_index=[2, 41], y=[29]),\n",
              " Data(x=[29, 9], edge_index=[2, 41], y=[29]),\n",
              " Data(x=[29, 9], edge_index=[2, 41], y=[29]),\n",
              " Data(x=[29, 9], edge_index=[2, 41], y=[29]),\n",
              " Data(x=[29, 9], edge_index=[2, 41], y=[29]),\n",
              " Data(x=[29, 9], edge_index=[2, 41], y=[29]),\n",
              " Data(x=[29, 9], edge_index=[2, 41], y=[29]),\n",
              " Data(x=[29, 9], edge_index=[2, 41], y=[29]),\n",
              " Data(x=[29, 9], edge_index=[2, 41], y=[29]),\n",
              " Data(x=[29, 9], edge_index=[2, 41], y=[29]),\n",
              " Data(x=[29, 9], edge_index=[2, 41], y=[29]),\n",
              " Data(x=[29, 9], edge_index=[2, 41], y=[29]),\n",
              " Data(x=[29, 9], edge_index=[2, 41], y=[29]),\n",
              " Data(x=[29, 9], edge_index=[2, 41], y=[29]),\n",
              " Data(x=[29, 9], edge_index=[2, 41], y=[29]),\n",
              " Data(x=[29, 9], edge_index=[2, 41], y=[29]),\n",
              " Data(x=[29, 9], edge_index=[2, 41], y=[29]),\n",
              " Data(x=[29, 9], edge_index=[2, 41], y=[29]),\n",
              " Data(x=[29, 9], edge_index=[2, 41], y=[29]),\n",
              " Data(x=[29, 9], edge_index=[2, 41], y=[29]),\n",
              " Data(x=[29, 9], edge_index=[2, 41], y=[29]),\n",
              " Data(x=[29, 9], edge_index=[2, 41], y=[29]),\n",
              " Data(x=[29, 9], edge_index=[2, 41], y=[29]),\n",
              " Data(x=[29, 9], edge_index=[2, 41], y=[29]),\n",
              " Data(x=[29, 9], edge_index=[2, 41], y=[29]),\n",
              " Data(x=[29, 9], edge_index=[2, 41], y=[29]),\n",
              " Data(x=[29, 9], edge_index=[2, 41], y=[29]),\n",
              " Data(x=[29, 9], edge_index=[2, 41], y=[29]),\n",
              " Data(x=[29, 9], edge_index=[2, 41], y=[29]),\n",
              " Data(x=[29, 9], edge_index=[2, 41], y=[29]),\n",
              " Data(x=[29, 9], edge_index=[2, 41], y=[29]),\n",
              " Data(x=[29, 9], edge_index=[2, 41], y=[29]),\n",
              " Data(x=[29, 9], edge_index=[2, 41], y=[29]),\n",
              " Data(x=[29, 9], edge_index=[2, 41], y=[29]),\n",
              " Data(x=[29, 9], edge_index=[2, 41], y=[29]),\n",
              " Data(x=[29, 9], edge_index=[2, 41], y=[29]),\n",
              " Data(x=[29, 9], edge_index=[2, 41], y=[29]),\n",
              " Data(x=[29, 9], edge_index=[2, 41], y=[29]),\n",
              " Data(x=[29, 9], edge_index=[2, 41], y=[29]),\n",
              " Data(x=[29, 9], edge_index=[2, 41], y=[29]),\n",
              " Data(x=[29, 9], edge_index=[2, 41], y=[29]),\n",
              " Data(x=[29, 9], edge_index=[2, 41], y=[29]),\n",
              " Data(x=[29, 9], edge_index=[2, 41], y=[29]),\n",
              " Data(x=[29, 9], edge_index=[2, 41], y=[29]),\n",
              " Data(x=[29, 9], edge_index=[2, 41], y=[29]),\n",
              " Data(x=[29, 9], edge_index=[2, 41], y=[29]),\n",
              " Data(x=[29, 9], edge_index=[2, 41], y=[29]),\n",
              " Data(x=[29, 9], edge_index=[2, 41], y=[29]),\n",
              " Data(x=[29, 9], edge_index=[2, 41], y=[29]),\n",
              " Data(x=[29, 9], edge_index=[2, 41], y=[29]),\n",
              " Data(x=[29, 9], edge_index=[2, 41], y=[29]),\n",
              " Data(x=[29, 9], edge_index=[2, 41], y=[29]),\n",
              " Data(x=[29, 9], edge_index=[2, 41], y=[29]),\n",
              " Data(x=[29, 9], edge_index=[2, 41], y=[29]),\n",
              " Data(x=[29, 9], edge_index=[2, 41], y=[29]),\n",
              " Data(x=[29, 9], edge_index=[2, 41], y=[29]),\n",
              " Data(x=[29, 9], edge_index=[2, 41], y=[29]),\n",
              " Data(x=[29, 9], edge_index=[2, 41], y=[29]),\n",
              " Data(x=[29, 9], edge_index=[2, 41], y=[29]),\n",
              " Data(x=[29, 9], edge_index=[2, 41], y=[29]),\n",
              " Data(x=[29, 9], edge_index=[2, 41], y=[29]),\n",
              " Data(x=[29, 9], edge_index=[2, 41], y=[29]),\n",
              " Data(x=[29, 9], edge_index=[2, 41], y=[29]),\n",
              " Data(x=[29, 9], edge_index=[2, 41], y=[29]),\n",
              " Data(x=[29, 9], edge_index=[2, 41], y=[29]),\n",
              " Data(x=[29, 9], edge_index=[2, 41], y=[29]),\n",
              " Data(x=[29, 9], edge_index=[2, 41], y=[29]),\n",
              " Data(x=[29, 9], edge_index=[2, 41], y=[29]),\n",
              " Data(x=[29, 9], edge_index=[2, 41], y=[29]),\n",
              " Data(x=[29, 9], edge_index=[2, 41], y=[29]),\n",
              " Data(x=[29, 9], edge_index=[2, 41], y=[29]),\n",
              " Data(x=[29, 9], edge_index=[2, 41], y=[29]),\n",
              " Data(x=[29, 9], edge_index=[2, 41], y=[29]),\n",
              " Data(x=[29, 9], edge_index=[2, 41], y=[29]),\n",
              " Data(x=[29, 9], edge_index=[2, 41], y=[29]),\n",
              " Data(x=[29, 9], edge_index=[2, 41], y=[29]),\n",
              " Data(x=[29, 9], edge_index=[2, 41], y=[29]),\n",
              " Data(x=[29, 9], edge_index=[2, 41], y=[29]),\n",
              " Data(x=[29, 9], edge_index=[2, 41], y=[29]),\n",
              " Data(x=[29, 9], edge_index=[2, 41], y=[29]),\n",
              " Data(x=[29, 9], edge_index=[2, 41], y=[29]),\n",
              " Data(x=[29, 9], edge_index=[2, 41], y=[29]),\n",
              " Data(x=[29, 9], edge_index=[2, 41], y=[29]),\n",
              " Data(x=[29, 9], edge_index=[2, 41], y=[29]),\n",
              " Data(x=[29, 9], edge_index=[2, 41], y=[29]),\n",
              " Data(x=[29, 9], edge_index=[2, 41], y=[29]),\n",
              " Data(x=[29, 9], edge_index=[2, 41], y=[29]),\n",
              " Data(x=[29, 9], edge_index=[2, 41], y=[29]),\n",
              " Data(x=[29, 9], edge_index=[2, 41], y=[29]),\n",
              " Data(x=[29, 9], edge_index=[2, 41], y=[29]),\n",
              " Data(x=[29, 9], edge_index=[2, 41], y=[29]),\n",
              " Data(x=[29, 9], edge_index=[2, 41], y=[29]),\n",
              " Data(x=[29, 9], edge_index=[2, 41], y=[29]),\n",
              " Data(x=[29, 9], edge_index=[2, 41], y=[29]),\n",
              " Data(x=[29, 9], edge_index=[2, 41], y=[29]),\n",
              " Data(x=[29, 9], edge_index=[2, 41], y=[29]),\n",
              " Data(x=[29, 9], edge_index=[2, 41], y=[29]),\n",
              " Data(x=[29, 9], edge_index=[2, 41], y=[29]),\n",
              " Data(x=[29, 9], edge_index=[2, 41], y=[29]),\n",
              " Data(x=[29, 9], edge_index=[2, 41], y=[29]),\n",
              " Data(x=[29, 9], edge_index=[2, 41], y=[29]),\n",
              " Data(x=[29, 9], edge_index=[2, 41], y=[29]),\n",
              " Data(x=[29, 9], edge_index=[2, 41], y=[29]),\n",
              " Data(x=[29, 9], edge_index=[2, 41], y=[29]),\n",
              " Data(x=[29, 9], edge_index=[2, 41], y=[29]),\n",
              " Data(x=[29, 9], edge_index=[2, 41], y=[29]),\n",
              " Data(x=[29, 9], edge_index=[2, 41], y=[29]),\n",
              " Data(x=[29, 9], edge_index=[2, 41], y=[29]),\n",
              " Data(x=[29, 9], edge_index=[2, 41], y=[29]),\n",
              " Data(x=[29, 9], edge_index=[2, 41], y=[29]),\n",
              " Data(x=[29, 9], edge_index=[2, 41], y=[29]),\n",
              " Data(x=[29, 9], edge_index=[2, 41], y=[29]),\n",
              " Data(x=[29, 9], edge_index=[2, 41], y=[29]),\n",
              " Data(x=[29, 9], edge_index=[2, 41], y=[29]),\n",
              " Data(x=[29, 9], edge_index=[2, 41], y=[29]),\n",
              " Data(x=[29, 9], edge_index=[2, 41], y=[29]),\n",
              " Data(x=[29, 9], edge_index=[2, 41], y=[29]),\n",
              " Data(x=[29, 9], edge_index=[2, 41], y=[29]),\n",
              " Data(x=[29, 9], edge_index=[2, 41], y=[29]),\n",
              " Data(x=[29, 9], edge_index=[2, 41], y=[29]),\n",
              " Data(x=[29, 9], edge_index=[2, 41], y=[29]),\n",
              " Data(x=[29, 9], edge_index=[2, 41], y=[29]),\n",
              " Data(x=[29, 9], edge_index=[2, 41], y=[29]),\n",
              " Data(x=[29, 9], edge_index=[2, 41], y=[29]),\n",
              " Data(x=[29, 9], edge_index=[2, 41], y=[29]),\n",
              " Data(x=[29, 9], edge_index=[2, 41], y=[29]),\n",
              " Data(x=[29, 9], edge_index=[2, 41], y=[29]),\n",
              " Data(x=[29, 9], edge_index=[2, 41], y=[29]),\n",
              " Data(x=[29, 9], edge_index=[2, 41], y=[29]),\n",
              " Data(x=[29, 9], edge_index=[2, 41], y=[29]),\n",
              " Data(x=[29, 9], edge_index=[2, 41], y=[29]),\n",
              " Data(x=[29, 9], edge_index=[2, 41], y=[29]),\n",
              " Data(x=[29, 9], edge_index=[2, 41], y=[29]),\n",
              " Data(x=[29, 9], edge_index=[2, 41], y=[29]),\n",
              " Data(x=[29, 9], edge_index=[2, 41], y=[29]),\n",
              " Data(x=[29, 9], edge_index=[2, 41], y=[29]),\n",
              " Data(x=[29, 9], edge_index=[2, 41], y=[29]),\n",
              " Data(x=[29, 9], edge_index=[2, 41], y=[29]),\n",
              " Data(x=[29, 9], edge_index=[2, 41], y=[29]),\n",
              " Data(x=[29, 9], edge_index=[2, 41], y=[29]),\n",
              " Data(x=[29, 9], edge_index=[2, 41], y=[29]),\n",
              " Data(x=[29, 9], edge_index=[2, 41], y=[29]),\n",
              " Data(x=[29, 9], edge_index=[2, 41], y=[29]),\n",
              " Data(x=[29, 9], edge_index=[2, 41], y=[29]),\n",
              " Data(x=[29, 9], edge_index=[2, 41], y=[29]),\n",
              " Data(x=[29, 9], edge_index=[2, 41], y=[29]),\n",
              " Data(x=[29, 9], edge_index=[2, 41], y=[29]),\n",
              " Data(x=[29, 9], edge_index=[2, 41], y=[29]),\n",
              " Data(x=[29, 9], edge_index=[2, 41], y=[29]),\n",
              " Data(x=[29, 9], edge_index=[2, 41], y=[29]),\n",
              " Data(x=[29, 9], edge_index=[2, 41], y=[29]),\n",
              " Data(x=[29, 9], edge_index=[2, 41], y=[29]),\n",
              " Data(x=[29, 9], edge_index=[2, 41], y=[29]),\n",
              " Data(x=[29, 9], edge_index=[2, 41], y=[29]),\n",
              " Data(x=[29, 9], edge_index=[2, 41], y=[29]),\n",
              " Data(x=[29, 9], edge_index=[2, 41], y=[29]),\n",
              " Data(x=[29, 9], edge_index=[2, 41], y=[29]),\n",
              " Data(x=[29, 9], edge_index=[2, 41], y=[29]),\n",
              " Data(x=[29, 9], edge_index=[2, 41], y=[29]),\n",
              " Data(x=[29, 9], edge_index=[2, 41], y=[29]),\n",
              " Data(x=[29, 9], edge_index=[2, 41], y=[29]),\n",
              " Data(x=[29, 9], edge_index=[2, 41], y=[29]),\n",
              " Data(x=[29, 9], edge_index=[2, 41], y=[29]),\n",
              " Data(x=[29, 9], edge_index=[2, 41], y=[29]),\n",
              " Data(x=[29, 9], edge_index=[2, 41], y=[29]),\n",
              " Data(x=[29, 9], edge_index=[2, 41], y=[29]),\n",
              " Data(x=[29, 9], edge_index=[2, 41], y=[29]),\n",
              " Data(x=[29, 9], edge_index=[2, 41], y=[29]),\n",
              " Data(x=[29, 9], edge_index=[2, 41], y=[29]),\n",
              " Data(x=[29, 9], edge_index=[2, 41], y=[29]),\n",
              " Data(x=[29, 9], edge_index=[2, 41], y=[29]),\n",
              " Data(x=[29, 9], edge_index=[2, 41], y=[29]),\n",
              " Data(x=[29, 9], edge_index=[2, 41], y=[29]),\n",
              " Data(x=[29, 9], edge_index=[2, 41], y=[29]),\n",
              " Data(x=[29, 9], edge_index=[2, 41], y=[29]),\n",
              " Data(x=[29, 9], edge_index=[2, 41], y=[29]),\n",
              " Data(x=[29, 9], edge_index=[2, 41], y=[29]),\n",
              " Data(x=[29, 9], edge_index=[2, 41], y=[29]),\n",
              " Data(x=[29, 9], edge_index=[2, 41], y=[29]),\n",
              " Data(x=[29, 9], edge_index=[2, 41], y=[29]),\n",
              " Data(x=[29, 9], edge_index=[2, 41], y=[29]),\n",
              " Data(x=[29, 9], edge_index=[2, 41], y=[29]),\n",
              " Data(x=[29, 9], edge_index=[2, 41], y=[29]),\n",
              " Data(x=[29, 9], edge_index=[2, 41], y=[29]),\n",
              " Data(x=[29, 9], edge_index=[2, 41], y=[29]),\n",
              " Data(x=[29, 9], edge_index=[2, 41], y=[29]),\n",
              " Data(x=[29, 9], edge_index=[2, 41], y=[29]),\n",
              " Data(x=[29, 9], edge_index=[2, 41], y=[29]),\n",
              " Data(x=[29, 9], edge_index=[2, 41], y=[29]),\n",
              " Data(x=[29, 9], edge_index=[2, 41], y=[29]),\n",
              " Data(x=[29, 9], edge_index=[2, 41], y=[29]),\n",
              " Data(x=[29, 9], edge_index=[2, 41], y=[29]),\n",
              " Data(x=[29, 9], edge_index=[2, 41], y=[29]),\n",
              " Data(x=[29, 9], edge_index=[2, 41], y=[29]),\n",
              " Data(x=[29, 9], edge_index=[2, 41], y=[29]),\n",
              " Data(x=[29, 9], edge_index=[2, 41], y=[29]),\n",
              " Data(x=[29, 9], edge_index=[2, 41], y=[29]),\n",
              " Data(x=[29, 9], edge_index=[2, 41], y=[29]),\n",
              " Data(x=[29, 9], edge_index=[2, 41], y=[29]),\n",
              " Data(x=[29, 9], edge_index=[2, 41], y=[29]),\n",
              " Data(x=[29, 9], edge_index=[2, 41], y=[29]),\n",
              " Data(x=[29, 9], edge_index=[2, 41], y=[29]),\n",
              " Data(x=[29, 9], edge_index=[2, 41], y=[29]),\n",
              " Data(x=[29, 9], edge_index=[2, 41], y=[29]),\n",
              " Data(x=[29, 9], edge_index=[2, 41], y=[29]),\n",
              " Data(x=[29, 9], edge_index=[2, 41], y=[29]),\n",
              " Data(x=[29, 9], edge_index=[2, 41], y=[29]),\n",
              " Data(x=[29, 9], edge_index=[2, 41], y=[29]),\n",
              " Data(x=[29, 9], edge_index=[2, 41], y=[29]),\n",
              " Data(x=[29, 9], edge_index=[2, 41], y=[29]),\n",
              " Data(x=[29, 9], edge_index=[2, 41], y=[29]),\n",
              " Data(x=[29, 9], edge_index=[2, 41], y=[29]),\n",
              " Data(x=[29, 9], edge_index=[2, 41], y=[29]),\n",
              " Data(x=[29, 9], edge_index=[2, 41], y=[29]),\n",
              " Data(x=[29, 9], edge_index=[2, 41], y=[29]),\n",
              " Data(x=[29, 9], edge_index=[2, 41], y=[29]),\n",
              " Data(x=[29, 9], edge_index=[2, 41], y=[29]),\n",
              " Data(x=[29, 9], edge_index=[2, 41], y=[29]),\n",
              " Data(x=[29, 9], edge_index=[2, 41], y=[29]),\n",
              " Data(x=[29, 9], edge_index=[2, 41], y=[29]),\n",
              " Data(x=[29, 9], edge_index=[2, 41], y=[29]),\n",
              " Data(x=[29, 9], edge_index=[2, 41], y=[29]),\n",
              " Data(x=[29, 9], edge_index=[2, 41], y=[29]),\n",
              " Data(x=[29, 9], edge_index=[2, 41], y=[29]),\n",
              " Data(x=[29, 9], edge_index=[2, 41], y=[29]),\n",
              " Data(x=[29, 9], edge_index=[2, 41], y=[29]),\n",
              " Data(x=[29, 9], edge_index=[2, 41], y=[29]),\n",
              " Data(x=[29, 9], edge_index=[2, 41], y=[29]),\n",
              " Data(x=[29, 9], edge_index=[2, 41], y=[29]),\n",
              " Data(x=[29, 9], edge_index=[2, 41], y=[29]),\n",
              " Data(x=[29, 9], edge_index=[2, 41], y=[29]),\n",
              " Data(x=[29, 9], edge_index=[2, 41], y=[29]),\n",
              " Data(x=[29, 9], edge_index=[2, 41], y=[29]),\n",
              " Data(x=[29, 9], edge_index=[2, 41], y=[29]),\n",
              " Data(x=[29, 9], edge_index=[2, 41], y=[29]),\n",
              " Data(x=[29, 9], edge_index=[2, 41], y=[29]),\n",
              " Data(x=[29, 9], edge_index=[2, 41], y=[29]),\n",
              " Data(x=[29, 9], edge_index=[2, 41], y=[29]),\n",
              " Data(x=[29, 9], edge_index=[2, 41], y=[29]),\n",
              " Data(x=[29, 9], edge_index=[2, 41], y=[29]),\n",
              " Data(x=[29, 9], edge_index=[2, 41], y=[29]),\n",
              " Data(x=[29, 9], edge_index=[2, 41], y=[29]),\n",
              " Data(x=[29, 9], edge_index=[2, 41], y=[29]),\n",
              " Data(x=[29, 9], edge_index=[2, 41], y=[29]),\n",
              " Data(x=[29, 9], edge_index=[2, 41], y=[29]),\n",
              " Data(x=[29, 9], edge_index=[2, 41], y=[29]),\n",
              " Data(x=[29, 9], edge_index=[2, 41], y=[29]),\n",
              " Data(x=[29, 9], edge_index=[2, 41], y=[29]),\n",
              " Data(x=[29, 9], edge_index=[2, 41], y=[29]),\n",
              " Data(x=[29, 9], edge_index=[2, 41], y=[29]),\n",
              " Data(x=[29, 9], edge_index=[2, 41], y=[29]),\n",
              " Data(x=[29, 9], edge_index=[2, 41], y=[29]),\n",
              " Data(x=[29, 9], edge_index=[2, 41], y=[29]),\n",
              " Data(x=[29, 9], edge_index=[2, 41], y=[29]),\n",
              " Data(x=[29, 9], edge_index=[2, 41], y=[29]),\n",
              " Data(x=[29, 9], edge_index=[2, 41], y=[29]),\n",
              " Data(x=[29, 9], edge_index=[2, 41], y=[29]),\n",
              " Data(x=[29, 9], edge_index=[2, 41], y=[29]),\n",
              " Data(x=[29, 9], edge_index=[2, 41], y=[29]),\n",
              " Data(x=[29, 9], edge_index=[2, 41], y=[29]),\n",
              " Data(x=[29, 9], edge_index=[2, 41], y=[29]),\n",
              " Data(x=[29, 9], edge_index=[2, 41], y=[29]),\n",
              " Data(x=[29, 9], edge_index=[2, 41], y=[29]),\n",
              " Data(x=[29, 9], edge_index=[2, 41], y=[29]),\n",
              " Data(x=[29, 9], edge_index=[2, 41], y=[29]),\n",
              " Data(x=[29, 9], edge_index=[2, 41], y=[29]),\n",
              " Data(x=[29, 9], edge_index=[2, 41], y=[29]),\n",
              " Data(x=[29, 9], edge_index=[2, 41], y=[29]),\n",
              " Data(x=[29, 9], edge_index=[2, 41], y=[29]),\n",
              " Data(x=[29, 9], edge_index=[2, 41], y=[29]),\n",
              " Data(x=[29, 9], edge_index=[2, 41], y=[29]),\n",
              " Data(x=[29, 9], edge_index=[2, 41], y=[29]),\n",
              " Data(x=[29, 9], edge_index=[2, 41], y=[29]),\n",
              " Data(x=[29, 9], edge_index=[2, 41], y=[29]),\n",
              " Data(x=[29, 9], edge_index=[2, 41], y=[29]),\n",
              " Data(x=[29, 9], edge_index=[2, 41], y=[29]),\n",
              " Data(x=[29, 9], edge_index=[2, 41], y=[29]),\n",
              " Data(x=[29, 9], edge_index=[2, 41], y=[29]),\n",
              " Data(x=[29, 9], edge_index=[2, 41], y=[29]),\n",
              " Data(x=[29, 9], edge_index=[2, 41], y=[29]),\n",
              " Data(x=[29, 9], edge_index=[2, 41], y=[29]),\n",
              " Data(x=[29, 9], edge_index=[2, 41], y=[29]),\n",
              " Data(x=[29, 9], edge_index=[2, 41], y=[29]),\n",
              " Data(x=[29, 9], edge_index=[2, 41], y=[29]),\n",
              " Data(x=[29, 9], edge_index=[2, 41], y=[29]),\n",
              " Data(x=[29, 9], edge_index=[2, 41], y=[29]),\n",
              " Data(x=[29, 9], edge_index=[2, 41], y=[29]),\n",
              " Data(x=[29, 9], edge_index=[2, 41], y=[29]),\n",
              " Data(x=[29, 9], edge_index=[2, 41], y=[29]),\n",
              " Data(x=[29, 9], edge_index=[2, 41], y=[29]),\n",
              " Data(x=[29, 9], edge_index=[2, 41], y=[29]),\n",
              " Data(x=[29, 9], edge_index=[2, 41], y=[29]),\n",
              " Data(x=[29, 9], edge_index=[2, 41], y=[29]),\n",
              " Data(x=[29, 9], edge_index=[2, 41], y=[29]),\n",
              " Data(x=[29, 9], edge_index=[2, 41], y=[29]),\n",
              " Data(x=[29, 9], edge_index=[2, 41], y=[29]),\n",
              " Data(x=[29, 9], edge_index=[2, 41], y=[29]),\n",
              " Data(x=[29, 9], edge_index=[2, 41], y=[29]),\n",
              " Data(x=[29, 9], edge_index=[2, 41], y=[29]),\n",
              " Data(x=[29, 9], edge_index=[2, 41], y=[29]),\n",
              " Data(x=[29, 9], edge_index=[2, 41], y=[29]),\n",
              " Data(x=[29, 9], edge_index=[2, 41], y=[29]),\n",
              " Data(x=[29, 9], edge_index=[2, 41], y=[29]),\n",
              " Data(x=[29, 9], edge_index=[2, 41], y=[29]),\n",
              " Data(x=[29, 9], edge_index=[2, 41], y=[29]),\n",
              " Data(x=[29, 9], edge_index=[2, 41], y=[29]),\n",
              " Data(x=[29, 9], edge_index=[2, 41], y=[29]),\n",
              " Data(x=[29, 9], edge_index=[2, 41], y=[29]),\n",
              " Data(x=[29, 9], edge_index=[2, 41], y=[29]),\n",
              " Data(x=[29, 9], edge_index=[2, 41], y=[29]),\n",
              " Data(x=[29, 9], edge_index=[2, 41], y=[29]),\n",
              " Data(x=[29, 9], edge_index=[2, 41], y=[29]),\n",
              " Data(x=[29, 9], edge_index=[2, 41], y=[29]),\n",
              " Data(x=[29, 9], edge_index=[2, 41], y=[29]),\n",
              " Data(x=[29, 9], edge_index=[2, 41], y=[29]),\n",
              " Data(x=[29, 9], edge_index=[2, 41], y=[29]),\n",
              " Data(x=[29, 9], edge_index=[2, 41], y=[29]),\n",
              " Data(x=[29, 9], edge_index=[2, 41], y=[29]),\n",
              " Data(x=[29, 9], edge_index=[2, 41], y=[29]),\n",
              " Data(x=[29, 9], edge_index=[2, 41], y=[29]),\n",
              " Data(x=[29, 9], edge_index=[2, 41], y=[29]),\n",
              " Data(x=[29, 9], edge_index=[2, 41], y=[29]),\n",
              " Data(x=[29, 9], edge_index=[2, 41], y=[29]),\n",
              " Data(x=[29, 9], edge_index=[2, 41], y=[29]),\n",
              " Data(x=[29, 9], edge_index=[2, 41], y=[29]),\n",
              " Data(x=[29, 9], edge_index=[2, 41], y=[29]),\n",
              " Data(x=[29, 9], edge_index=[2, 41], y=[29]),\n",
              " Data(x=[29, 9], edge_index=[2, 41], y=[29]),\n",
              " Data(x=[29, 9], edge_index=[2, 41], y=[29]),\n",
              " Data(x=[29, 9], edge_index=[2, 41], y=[29]),\n",
              " Data(x=[29, 9], edge_index=[2, 41], y=[29]),\n",
              " Data(x=[29, 9], edge_index=[2, 41], y=[29]),\n",
              " Data(x=[29, 9], edge_index=[2, 41], y=[29]),\n",
              " Data(x=[29, 9], edge_index=[2, 41], y=[29]),\n",
              " Data(x=[29, 9], edge_index=[2, 41], y=[29]),\n",
              " Data(x=[29, 9], edge_index=[2, 41], y=[29]),\n",
              " Data(x=[29, 9], edge_index=[2, 41], y=[29]),\n",
              " Data(x=[29, 9], edge_index=[2, 41], y=[29]),\n",
              " Data(x=[29, 9], edge_index=[2, 41], y=[29]),\n",
              " Data(x=[29, 9], edge_index=[2, 41], y=[29]),\n",
              " Data(x=[29, 9], edge_index=[2, 41], y=[29]),\n",
              " Data(x=[29, 9], edge_index=[2, 41], y=[29]),\n",
              " Data(x=[29, 9], edge_index=[2, 41], y=[29]),\n",
              " Data(x=[29, 9], edge_index=[2, 41], y=[29]),\n",
              " Data(x=[29, 9], edge_index=[2, 41], y=[29]),\n",
              " Data(x=[29, 9], edge_index=[2, 41], y=[29]),\n",
              " Data(x=[29, 9], edge_index=[2, 41], y=[29]),\n",
              " Data(x=[29, 9], edge_index=[2, 41], y=[29]),\n",
              " Data(x=[29, 9], edge_index=[2, 41], y=[29]),\n",
              " Data(x=[29, 9], edge_index=[2, 41], y=[29]),\n",
              " Data(x=[29, 9], edge_index=[2, 41], y=[29]),\n",
              " Data(x=[29, 9], edge_index=[2, 41], y=[29]),\n",
              " Data(x=[29, 9], edge_index=[2, 41], y=[29]),\n",
              " Data(x=[29, 9], edge_index=[2, 41], y=[29]),\n",
              " Data(x=[29, 9], edge_index=[2, 41], y=[29]),\n",
              " Data(x=[29, 9], edge_index=[2, 41], y=[29]),\n",
              " Data(x=[29, 9], edge_index=[2, 41], y=[29]),\n",
              " Data(x=[29, 9], edge_index=[2, 41], y=[29]),\n",
              " Data(x=[29, 9], edge_index=[2, 41], y=[29]),\n",
              " Data(x=[29, 9], edge_index=[2, 41], y=[29]),\n",
              " Data(x=[29, 9], edge_index=[2, 41], y=[29]),\n",
              " Data(x=[29, 9], edge_index=[2, 41], y=[29]),\n",
              " Data(x=[29, 9], edge_index=[2, 41], y=[29]),\n",
              " Data(x=[29, 9], edge_index=[2, 41], y=[29]),\n",
              " Data(x=[29, 9], edge_index=[2, 41], y=[29]),\n",
              " Data(x=[29, 9], edge_index=[2, 41], y=[29]),\n",
              " Data(x=[29, 9], edge_index=[2, 41], y=[29]),\n",
              " Data(x=[29, 9], edge_index=[2, 41], y=[29]),\n",
              " Data(x=[29, 9], edge_index=[2, 41], y=[29]),\n",
              " Data(x=[29, 9], edge_index=[2, 41], y=[29]),\n",
              " Data(x=[29, 9], edge_index=[2, 41], y=[29]),\n",
              " Data(x=[29, 9], edge_index=[2, 41], y=[29]),\n",
              " Data(x=[29, 9], edge_index=[2, 41], y=[29]),\n",
              " Data(x=[29, 9], edge_index=[2, 41], y=[29]),\n",
              " Data(x=[29, 9], edge_index=[2, 41], y=[29]),\n",
              " Data(x=[29, 9], edge_index=[2, 41], y=[29]),\n",
              " Data(x=[29, 9], edge_index=[2, 41], y=[29]),\n",
              " Data(x=[29, 9], edge_index=[2, 41], y=[29]),\n",
              " Data(x=[29, 9], edge_index=[2, 41], y=[29]),\n",
              " Data(x=[29, 9], edge_index=[2, 41], y=[29]),\n",
              " Data(x=[29, 9], edge_index=[2, 41], y=[29]),\n",
              " Data(x=[29, 9], edge_index=[2, 41], y=[29]),\n",
              " Data(x=[29, 9], edge_index=[2, 41], y=[29]),\n",
              " Data(x=[29, 9], edge_index=[2, 41], y=[29]),\n",
              " Data(x=[29, 9], edge_index=[2, 41], y=[29]),\n",
              " Data(x=[29, 9], edge_index=[2, 41], y=[29]),\n",
              " Data(x=[29, 9], edge_index=[2, 41], y=[29]),\n",
              " Data(x=[29, 9], edge_index=[2, 41], y=[29]),\n",
              " Data(x=[29, 9], edge_index=[2, 41], y=[29]),\n",
              " Data(x=[29, 9], edge_index=[2, 41], y=[29]),\n",
              " Data(x=[29, 9], edge_index=[2, 41], y=[29]),\n",
              " Data(x=[29, 9], edge_index=[2, 41], y=[29]),\n",
              " Data(x=[29, 9], edge_index=[2, 41], y=[29]),\n",
              " Data(x=[29, 9], edge_index=[2, 41], y=[29]),\n",
              " Data(x=[29, 9], edge_index=[2, 41], y=[29]),\n",
              " Data(x=[29, 9], edge_index=[2, 41], y=[29]),\n",
              " Data(x=[29, 9], edge_index=[2, 41], y=[29]),\n",
              " Data(x=[29, 9], edge_index=[2, 41], y=[29]),\n",
              " Data(x=[29, 9], edge_index=[2, 41], y=[29]),\n",
              " Data(x=[29, 9], edge_index=[2, 41], y=[29]),\n",
              " Data(x=[29, 9], edge_index=[2, 41], y=[29]),\n",
              " Data(x=[29, 9], edge_index=[2, 41], y=[29]),\n",
              " Data(x=[29, 9], edge_index=[2, 41], y=[29]),\n",
              " Data(x=[29, 9], edge_index=[2, 41], y=[29]),\n",
              " Data(x=[29, 9], edge_index=[2, 41], y=[29]),\n",
              " Data(x=[29, 9], edge_index=[2, 41], y=[29]),\n",
              " Data(x=[29, 9], edge_index=[2, 41], y=[29]),\n",
              " Data(x=[29, 9], edge_index=[2, 41], y=[29]),\n",
              " Data(x=[29, 9], edge_index=[2, 41], y=[29]),\n",
              " Data(x=[29, 9], edge_index=[2, 41], y=[29]),\n",
              " Data(x=[29, 9], edge_index=[2, 41], y=[29]),\n",
              " Data(x=[29, 9], edge_index=[2, 41], y=[29]),\n",
              " Data(x=[29, 9], edge_index=[2, 41], y=[29]),\n",
              " Data(x=[29, 9], edge_index=[2, 41], y=[29]),\n",
              " Data(x=[29, 9], edge_index=[2, 41], y=[29]),\n",
              " Data(x=[29, 9], edge_index=[2, 41], y=[29]),\n",
              " Data(x=[29, 9], edge_index=[2, 41], y=[29]),\n",
              " Data(x=[29, 9], edge_index=[2, 41], y=[29]),\n",
              " Data(x=[29, 9], edge_index=[2, 41], y=[29]),\n",
              " Data(x=[29, 9], edge_index=[2, 41], y=[29]),\n",
              " Data(x=[29, 9], edge_index=[2, 41], y=[29]),\n",
              " Data(x=[29, 9], edge_index=[2, 41], y=[29]),\n",
              " Data(x=[29, 9], edge_index=[2, 41], y=[29]),\n",
              " Data(x=[29, 9], edge_index=[2, 41], y=[29]),\n",
              " Data(x=[29, 9], edge_index=[2, 41], y=[29]),\n",
              " Data(x=[29, 9], edge_index=[2, 41], y=[29]),\n",
              " Data(x=[29, 9], edge_index=[2, 41], y=[29]),\n",
              " Data(x=[29, 9], edge_index=[2, 41], y=[29]),\n",
              " Data(x=[29, 9], edge_index=[2, 41], y=[29]),\n",
              " Data(x=[29, 9], edge_index=[2, 41], y=[29]),\n",
              " Data(x=[29, 9], edge_index=[2, 41], y=[29]),\n",
              " Data(x=[29, 9], edge_index=[2, 41], y=[29]),\n",
              " Data(x=[29, 9], edge_index=[2, 41], y=[29]),\n",
              " Data(x=[29, 9], edge_index=[2, 41], y=[29]),\n",
              " Data(x=[29, 9], edge_index=[2, 41], y=[29]),\n",
              " Data(x=[29, 9], edge_index=[2, 41], y=[29]),\n",
              " Data(x=[29, 9], edge_index=[2, 41], y=[29]),\n",
              " Data(x=[29, 9], edge_index=[2, 41], y=[29]),\n",
              " Data(x=[29, 9], edge_index=[2, 41], y=[29]),\n",
              " Data(x=[29, 9], edge_index=[2, 41], y=[29]),\n",
              " Data(x=[29, 9], edge_index=[2, 41], y=[29]),\n",
              " Data(x=[29, 9], edge_index=[2, 41], y=[29]),\n",
              " Data(x=[29, 9], edge_index=[2, 41], y=[29]),\n",
              " Data(x=[29, 9], edge_index=[2, 41], y=[29]),\n",
              " Data(x=[29, 9], edge_index=[2, 41], y=[29]),\n",
              " Data(x=[29, 9], edge_index=[2, 41], y=[29]),\n",
              " Data(x=[29, 9], edge_index=[2, 41], y=[29]),\n",
              " Data(x=[29, 9], edge_index=[2, 41], y=[29]),\n",
              " Data(x=[29, 9], edge_index=[2, 41], y=[29]),\n",
              " Data(x=[29, 9], edge_index=[2, 41], y=[29]),\n",
              " Data(x=[29, 9], edge_index=[2, 41], y=[29]),\n",
              " Data(x=[29, 9], edge_index=[2, 41], y=[29]),\n",
              " Data(x=[29, 9], edge_index=[2, 41], y=[29]),\n",
              " Data(x=[29, 9], edge_index=[2, 41], y=[29]),\n",
              " Data(x=[29, 9], edge_index=[2, 41], y=[29]),\n",
              " Data(x=[29, 9], edge_index=[2, 41], y=[29]),\n",
              " Data(x=[29, 9], edge_index=[2, 41], y=[29]),\n",
              " Data(x=[29, 9], edge_index=[2, 41], y=[29]),\n",
              " Data(x=[29, 9], edge_index=[2, 41], y=[29]),\n",
              " Data(x=[29, 9], edge_index=[2, 41], y=[29]),\n",
              " Data(x=[29, 9], edge_index=[2, 41], y=[29]),\n",
              " Data(x=[29, 9], edge_index=[2, 41], y=[29]),\n",
              " Data(x=[29, 9], edge_index=[2, 41], y=[29]),\n",
              " Data(x=[29, 9], edge_index=[2, 41], y=[29]),\n",
              " Data(x=[29, 9], edge_index=[2, 41], y=[29]),\n",
              " Data(x=[29, 9], edge_index=[2, 41], y=[29]),\n",
              " Data(x=[29, 9], edge_index=[2, 41], y=[29]),\n",
              " Data(x=[29, 9], edge_index=[2, 41], y=[29]),\n",
              " Data(x=[29, 9], edge_index=[2, 41], y=[29]),\n",
              " Data(x=[29, 9], edge_index=[2, 41], y=[29]),\n",
              " Data(x=[29, 9], edge_index=[2, 41], y=[29]),\n",
              " Data(x=[29, 9], edge_index=[2, 41], y=[29]),\n",
              " Data(x=[29, 9], edge_index=[2, 41], y=[29]),\n",
              " Data(x=[29, 9], edge_index=[2, 41], y=[29]),\n",
              " Data(x=[29, 9], edge_index=[2, 41], y=[29]),\n",
              " Data(x=[29, 9], edge_index=[2, 41], y=[29]),\n",
              " Data(x=[29, 9], edge_index=[2, 41], y=[29]),\n",
              " Data(x=[29, 9], edge_index=[2, 41], y=[29]),\n",
              " Data(x=[29, 9], edge_index=[2, 41], y=[29]),\n",
              " Data(x=[29, 9], edge_index=[2, 41], y=[29]),\n",
              " Data(x=[29, 9], edge_index=[2, 41], y=[29]),\n",
              " Data(x=[29, 9], edge_index=[2, 41], y=[29]),\n",
              " Data(x=[29, 9], edge_index=[2, 41], y=[29]),\n",
              " Data(x=[29, 9], edge_index=[2, 41], y=[29]),\n",
              " Data(x=[29, 9], edge_index=[2, 41], y=[29]),\n",
              " Data(x=[29, 9], edge_index=[2, 41], y=[29]),\n",
              " Data(x=[29, 9], edge_index=[2, 41], y=[29]),\n",
              " Data(x=[29, 9], edge_index=[2, 41], y=[29]),\n",
              " Data(x=[29, 9], edge_index=[2, 41], y=[29]),\n",
              " Data(x=[29, 9], edge_index=[2, 41], y=[29]),\n",
              " Data(x=[29, 9], edge_index=[2, 41], y=[29]),\n",
              " Data(x=[29, 9], edge_index=[2, 41], y=[29]),\n",
              " Data(x=[29, 9], edge_index=[2, 41], y=[29]),\n",
              " Data(x=[29, 9], edge_index=[2, 41], y=[29]),\n",
              " Data(x=[29, 9], edge_index=[2, 41], y=[29]),\n",
              " Data(x=[29, 9], edge_index=[2, 41], y=[29]),\n",
              " Data(x=[29, 9], edge_index=[2, 41], y=[29]),\n",
              " Data(x=[29, 9], edge_index=[2, 41], y=[29]),\n",
              " Data(x=[29, 9], edge_index=[2, 41], y=[29]),\n",
              " Data(x=[29, 9], edge_index=[2, 41], y=[29]),\n",
              " Data(x=[29, 9], edge_index=[2, 41], y=[29]),\n",
              " Data(x=[29, 9], edge_index=[2, 41], y=[29]),\n",
              " Data(x=[29, 9], edge_index=[2, 41], y=[29]),\n",
              " Data(x=[29, 9], edge_index=[2, 41], y=[29]),\n",
              " Data(x=[29, 9], edge_index=[2, 41], y=[29]),\n",
              " Data(x=[29, 9], edge_index=[2, 41], y=[29]),\n",
              " Data(x=[29, 9], edge_index=[2, 41], y=[29]),\n",
              " Data(x=[29, 9], edge_index=[2, 41], y=[29]),\n",
              " Data(x=[29, 9], edge_index=[2, 41], y=[29]),\n",
              " Data(x=[29, 9], edge_index=[2, 41], y=[29]),\n",
              " Data(x=[29, 9], edge_index=[2, 41], y=[29]),\n",
              " Data(x=[29, 9], edge_index=[2, 41], y=[29]),\n",
              " Data(x=[29, 9], edge_index=[2, 41], y=[29]),\n",
              " Data(x=[29, 9], edge_index=[2, 41], y=[29]),\n",
              " Data(x=[29, 9], edge_index=[2, 41], y=[29]),\n",
              " Data(x=[29, 9], edge_index=[2, 41], y=[29]),\n",
              " Data(x=[29, 9], edge_index=[2, 41], y=[29]),\n",
              " Data(x=[29, 9], edge_index=[2, 41], y=[29]),\n",
              " Data(x=[29, 9], edge_index=[2, 41], y=[29]),\n",
              " Data(x=[29, 9], edge_index=[2, 41], y=[29]),\n",
              " Data(x=[29, 9], edge_index=[2, 41], y=[29]),\n",
              " Data(x=[29, 9], edge_index=[2, 41], y=[29]),\n",
              " Data(x=[29, 9], edge_index=[2, 41], y=[29]),\n",
              " Data(x=[29, 9], edge_index=[2, 41], y=[29]),\n",
              " Data(x=[29, 9], edge_index=[2, 41], y=[29]),\n",
              " Data(x=[29, 9], edge_index=[2, 41], y=[29]),\n",
              " Data(x=[29, 9], edge_index=[2, 41], y=[29]),\n",
              " Data(x=[29, 9], edge_index=[2, 41], y=[29]),\n",
              " Data(x=[29, 9], edge_index=[2, 41], y=[29]),\n",
              " Data(x=[29, 9], edge_index=[2, 41], y=[29]),\n",
              " Data(x=[29, 9], edge_index=[2, 41], y=[29]),\n",
              " Data(x=[29, 9], edge_index=[2, 41], y=[29]),\n",
              " Data(x=[29, 9], edge_index=[2, 41], y=[29]),\n",
              " Data(x=[29, 9], edge_index=[2, 41], y=[29]),\n",
              " Data(x=[29, 9], edge_index=[2, 41], y=[29]),\n",
              " Data(x=[29, 9], edge_index=[2, 41], y=[29]),\n",
              " Data(x=[29, 9], edge_index=[2, 41], y=[29]),\n",
              " Data(x=[29, 9], edge_index=[2, 41], y=[29]),\n",
              " Data(x=[29, 9], edge_index=[2, 41], y=[29]),\n",
              " Data(x=[29, 9], edge_index=[2, 41], y=[29]),\n",
              " Data(x=[29, 9], edge_index=[2, 41], y=[29]),\n",
              " Data(x=[29, 9], edge_index=[2, 41], y=[29]),\n",
              " Data(x=[29, 9], edge_index=[2, 41], y=[29]),\n",
              " Data(x=[29, 9], edge_index=[2, 41], y=[29]),\n",
              " Data(x=[29, 9], edge_index=[2, 41], y=[29]),\n",
              " Data(x=[29, 9], edge_index=[2, 41], y=[29]),\n",
              " Data(x=[29, 9], edge_index=[2, 41], y=[29]),\n",
              " Data(x=[29, 9], edge_index=[2, 41], y=[29]),\n",
              " Data(x=[29, 9], edge_index=[2, 41], y=[29]),\n",
              " Data(x=[29, 9], edge_index=[2, 41], y=[29]),\n",
              " Data(x=[29, 9], edge_index=[2, 41], y=[29]),\n",
              " Data(x=[29, 9], edge_index=[2, 41], y=[29]),\n",
              " Data(x=[29, 9], edge_index=[2, 41], y=[29]),\n",
              " Data(x=[29, 9], edge_index=[2, 41], y=[29]),\n",
              " Data(x=[29, 9], edge_index=[2, 41], y=[29]),\n",
              " Data(x=[29, 9], edge_index=[2, 41], y=[29]),\n",
              " Data(x=[29, 9], edge_index=[2, 41], y=[29]),\n",
              " Data(x=[29, 9], edge_index=[2, 41], y=[29]),\n",
              " Data(x=[29, 9], edge_index=[2, 41], y=[29]),\n",
              " Data(x=[29, 9], edge_index=[2, 41], y=[29]),\n",
              " Data(x=[29, 9], edge_index=[2, 41], y=[29]),\n",
              " Data(x=[29, 9], edge_index=[2, 41], y=[29]),\n",
              " Data(x=[29, 9], edge_index=[2, 41], y=[29]),\n",
              " Data(x=[29, 9], edge_index=[2, 41], y=[29]),\n",
              " Data(x=[29, 9], edge_index=[2, 41], y=[29]),\n",
              " Data(x=[29, 9], edge_index=[2, 41], y=[29]),\n",
              " Data(x=[29, 9], edge_index=[2, 41], y=[29]),\n",
              " Data(x=[29, 9], edge_index=[2, 41], y=[29]),\n",
              " Data(x=[29, 9], edge_index=[2, 41], y=[29]),\n",
              " Data(x=[29, 9], edge_index=[2, 41], y=[29]),\n",
              " Data(x=[29, 9], edge_index=[2, 41], y=[29]),\n",
              " Data(x=[29, 9], edge_index=[2, 41], y=[29]),\n",
              " Data(x=[29, 9], edge_index=[2, 41], y=[29]),\n",
              " Data(x=[29, 9], edge_index=[2, 41], y=[29]),\n",
              " Data(x=[29, 9], edge_index=[2, 41], y=[29]),\n",
              " Data(x=[29, 9], edge_index=[2, 41], y=[29]),\n",
              " Data(x=[29, 9], edge_index=[2, 41], y=[29]),\n",
              " Data(x=[29, 9], edge_index=[2, 41], y=[29]),\n",
              " Data(x=[29, 9], edge_index=[2, 41], y=[29]),\n",
              " Data(x=[29, 9], edge_index=[2, 41], y=[29]),\n",
              " Data(x=[29, 9], edge_index=[2, 41], y=[29]),\n",
              " Data(x=[29, 9], edge_index=[2, 41], y=[29]),\n",
              " Data(x=[29, 9], edge_index=[2, 41], y=[29]),\n",
              " Data(x=[29, 9], edge_index=[2, 41], y=[29]),\n",
              " Data(x=[29, 9], edge_index=[2, 41], y=[29]),\n",
              " Data(x=[29, 9], edge_index=[2, 41], y=[29]),\n",
              " Data(x=[29, 9], edge_index=[2, 41], y=[29]),\n",
              " Data(x=[29, 9], edge_index=[2, 41], y=[29]),\n",
              " Data(x=[29, 9], edge_index=[2, 41], y=[29]),\n",
              " Data(x=[29, 9], edge_index=[2, 41], y=[29]),\n",
              " Data(x=[29, 9], edge_index=[2, 41], y=[29]),\n",
              " Data(x=[29, 9], edge_index=[2, 41], y=[29]),\n",
              " Data(x=[29, 9], edge_index=[2, 41], y=[29]),\n",
              " Data(x=[29, 9], edge_index=[2, 41], y=[29]),\n",
              " Data(x=[29, 9], edge_index=[2, 41], y=[29]),\n",
              " Data(x=[29, 9], edge_index=[2, 41], y=[29]),\n",
              " Data(x=[29, 9], edge_index=[2, 41], y=[29]),\n",
              " Data(x=[29, 9], edge_index=[2, 41], y=[29]),\n",
              " Data(x=[29, 9], edge_index=[2, 41], y=[29]),\n",
              " Data(x=[29, 9], edge_index=[2, 41], y=[29]),\n",
              " Data(x=[29, 9], edge_index=[2, 41], y=[29]),\n",
              " Data(x=[29, 9], edge_index=[2, 41], y=[29]),\n",
              " Data(x=[29, 9], edge_index=[2, 41], y=[29]),\n",
              " Data(x=[29, 9], edge_index=[2, 41], y=[29]),\n",
              " Data(x=[29, 9], edge_index=[2, 41], y=[29]),\n",
              " Data(x=[29, 9], edge_index=[2, 41], y=[29]),\n",
              " Data(x=[29, 9], edge_index=[2, 41], y=[29]),\n",
              " Data(x=[29, 9], edge_index=[2, 41], y=[29]),\n",
              " Data(x=[29, 9], edge_index=[2, 41], y=[29]),\n",
              " Data(x=[29, 9], edge_index=[2, 41], y=[29]),\n",
              " Data(x=[29, 9], edge_index=[2, 41], y=[29]),\n",
              " Data(x=[29, 9], edge_index=[2, 41], y=[29]),\n",
              " Data(x=[29, 9], edge_index=[2, 41], y=[29]),\n",
              " Data(x=[29, 9], edge_index=[2, 41], y=[29]),\n",
              " Data(x=[29, 9], edge_index=[2, 41], y=[29]),\n",
              " Data(x=[29, 9], edge_index=[2, 41], y=[29]),\n",
              " Data(x=[29, 9], edge_index=[2, 41], y=[29]),\n",
              " Data(x=[29, 9], edge_index=[2, 41], y=[29]),\n",
              " Data(x=[29, 9], edge_index=[2, 41], y=[29]),\n",
              " Data(x=[29, 9], edge_index=[2, 41], y=[29]),\n",
              " Data(x=[29, 9], edge_index=[2, 41], y=[29]),\n",
              " Data(x=[29, 9], edge_index=[2, 41], y=[29]),\n",
              " Data(x=[29, 9], edge_index=[2, 41], y=[29]),\n",
              " Data(x=[29, 9], edge_index=[2, 41], y=[29]),\n",
              " Data(x=[29, 9], edge_index=[2, 41], y=[29]),\n",
              " Data(x=[29, 9], edge_index=[2, 41], y=[29]),\n",
              " Data(x=[29, 9], edge_index=[2, 41], y=[29]),\n",
              " Data(x=[29, 9], edge_index=[2, 41], y=[29]),\n",
              " Data(x=[29, 9], edge_index=[2, 41], y=[29]),\n",
              " Data(x=[29, 9], edge_index=[2, 41], y=[29]),\n",
              " Data(x=[29, 9], edge_index=[2, 41], y=[29]),\n",
              " Data(x=[29, 9], edge_index=[2, 41], y=[29]),\n",
              " Data(x=[29, 9], edge_index=[2, 41], y=[29]),\n",
              " Data(x=[29, 9], edge_index=[2, 41], y=[29]),\n",
              " Data(x=[29, 9], edge_index=[2, 41], y=[29]),\n",
              " Data(x=[29, 9], edge_index=[2, 41], y=[29]),\n",
              " Data(x=[29, 9], edge_index=[2, 41], y=[29]),\n",
              " Data(x=[29, 9], edge_index=[2, 41], y=[29]),\n",
              " Data(x=[29, 9], edge_index=[2, 41], y=[29]),\n",
              " Data(x=[29, 9], edge_index=[2, 41], y=[29]),\n",
              " Data(x=[29, 9], edge_index=[2, 41], y=[29]),\n",
              " Data(x=[29, 9], edge_index=[2, 41], y=[29]),\n",
              " Data(x=[29, 9], edge_index=[2, 41], y=[29]),\n",
              " Data(x=[29, 9], edge_index=[2, 41], y=[29]),\n",
              " Data(x=[29, 9], edge_index=[2, 41], y=[29]),\n",
              " Data(x=[29, 9], edge_index=[2, 41], y=[29]),\n",
              " Data(x=[29, 9], edge_index=[2, 41], y=[29]),\n",
              " Data(x=[29, 9], edge_index=[2, 41], y=[29]),\n",
              " Data(x=[29, 9], edge_index=[2, 41], y=[29]),\n",
              " Data(x=[29, 9], edge_index=[2, 41], y=[29]),\n",
              " Data(x=[29, 9], edge_index=[2, 41], y=[29]),\n",
              " Data(x=[29, 9], edge_index=[2, 41], y=[29]),\n",
              " Data(x=[29, 9], edge_index=[2, 41], y=[29]),\n",
              " Data(x=[29, 9], edge_index=[2, 41], y=[29]),\n",
              " Data(x=[29, 9], edge_index=[2, 41], y=[29]),\n",
              " Data(x=[29, 9], edge_index=[2, 41], y=[29]),\n",
              " Data(x=[29, 9], edge_index=[2, 41], y=[29]),\n",
              " Data(x=[29, 9], edge_index=[2, 41], y=[29]),\n",
              " Data(x=[29, 9], edge_index=[2, 41], y=[29]),\n",
              " Data(x=[29, 9], edge_index=[2, 41], y=[29]),\n",
              " Data(x=[29, 9], edge_index=[2, 41], y=[29]),\n",
              " Data(x=[29, 9], edge_index=[2, 41], y=[29]),\n",
              " Data(x=[29, 9], edge_index=[2, 41], y=[29]),\n",
              " Data(x=[29, 9], edge_index=[2, 41], y=[29]),\n",
              " Data(x=[29, 9], edge_index=[2, 41], y=[29]),\n",
              " Data(x=[29, 9], edge_index=[2, 41], y=[29]),\n",
              " Data(x=[29, 9], edge_index=[2, 41], y=[29]),\n",
              " Data(x=[29, 9], edge_index=[2, 41], y=[29]),\n",
              " Data(x=[29, 9], edge_index=[2, 41], y=[29]),\n",
              " Data(x=[29, 9], edge_index=[2, 41], y=[29]),\n",
              " Data(x=[29, 9], edge_index=[2, 41], y=[29]),\n",
              " Data(x=[29, 9], edge_index=[2, 41], y=[29]),\n",
              " Data(x=[29, 9], edge_index=[2, 41], y=[29]),\n",
              " Data(x=[29, 9], edge_index=[2, 41], y=[29]),\n",
              " Data(x=[29, 9], edge_index=[2, 41], y=[29]),\n",
              " Data(x=[29, 9], edge_index=[2, 41], y=[29]),\n",
              " Data(x=[29, 9], edge_index=[2, 41], y=[29]),\n",
              " Data(x=[29, 9], edge_index=[2, 41], y=[29]),\n",
              " Data(x=[29, 9], edge_index=[2, 41], y=[29]),\n",
              " Data(x=[29, 9], edge_index=[2, 41], y=[29]),\n",
              " Data(x=[29, 9], edge_index=[2, 41], y=[29]),\n",
              " Data(x=[29, 9], edge_index=[2, 41], y=[29]),\n",
              " Data(x=[29, 9], edge_index=[2, 41], y=[29]),\n",
              " Data(x=[29, 9], edge_index=[2, 41], y=[29]),\n",
              " Data(x=[29, 9], edge_index=[2, 41], y=[29]),\n",
              " Data(x=[29, 9], edge_index=[2, 41], y=[29]),\n",
              " Data(x=[29, 9], edge_index=[2, 41], y=[29]),\n",
              " Data(x=[29, 9], edge_index=[2, 41], y=[29]),\n",
              " Data(x=[29, 9], edge_index=[2, 41], y=[29]),\n",
              " Data(x=[29, 9], edge_index=[2, 41], y=[29]),\n",
              " Data(x=[29, 9], edge_index=[2, 41], y=[29]),\n",
              " Data(x=[29, 9], edge_index=[2, 41], y=[29]),\n",
              " Data(x=[29, 9], edge_index=[2, 41], y=[29]),\n",
              " Data(x=[29, 9], edge_index=[2, 41], y=[29]),\n",
              " Data(x=[29, 9], edge_index=[2, 41], y=[29]),\n",
              " Data(x=[29, 9], edge_index=[2, 41], y=[29]),\n",
              " Data(x=[29, 9], edge_index=[2, 41], y=[29]),\n",
              " Data(x=[29, 9], edge_index=[2, 41], y=[29]),\n",
              " Data(x=[29, 9], edge_index=[2, 41], y=[29]),\n",
              " Data(x=[29, 9], edge_index=[2, 41], y=[29]),\n",
              " Data(x=[29, 9], edge_index=[2, 41], y=[29]),\n",
              " Data(x=[29, 9], edge_index=[2, 41], y=[29]),\n",
              " Data(x=[29, 9], edge_index=[2, 41], y=[29]),\n",
              " Data(x=[29, 9], edge_index=[2, 41], y=[29]),\n",
              " Data(x=[29, 9], edge_index=[2, 41], y=[29]),\n",
              " Data(x=[29, 9], edge_index=[2, 41], y=[29]),\n",
              " Data(x=[29, 9], edge_index=[2, 41], y=[29]),\n",
              " Data(x=[29, 9], edge_index=[2, 41], y=[29]),\n",
              " Data(x=[29, 9], edge_index=[2, 41], y=[29]),\n",
              " Data(x=[29, 9], edge_index=[2, 41], y=[29]),\n",
              " Data(x=[29, 9], edge_index=[2, 41], y=[29]),\n",
              " Data(x=[29, 9], edge_index=[2, 41], y=[29]),\n",
              " Data(x=[29, 9], edge_index=[2, 41], y=[29]),\n",
              " Data(x=[29, 9], edge_index=[2, 41], y=[29]),\n",
              " Data(x=[29, 9], edge_index=[2, 41], y=[29]),\n",
              " Data(x=[29, 9], edge_index=[2, 41], y=[29]),\n",
              " Data(x=[29, 9], edge_index=[2, 41], y=[29]),\n",
              " Data(x=[29, 9], edge_index=[2, 41], y=[29]),\n",
              " Data(x=[29, 9], edge_index=[2, 41], y=[29]),\n",
              " Data(x=[29, 9], edge_index=[2, 41], y=[29]),\n",
              " Data(x=[29, 9], edge_index=[2, 41], y=[29]),\n",
              " Data(x=[29, 9], edge_index=[2, 41], y=[29]),\n",
              " Data(x=[29, 9], edge_index=[2, 41], y=[29]),\n",
              " Data(x=[29, 9], edge_index=[2, 41], y=[29]),\n",
              " Data(x=[29, 9], edge_index=[2, 41], y=[29]),\n",
              " Data(x=[29, 9], edge_index=[2, 41], y=[29]),\n",
              " Data(x=[29, 9], edge_index=[2, 41], y=[29]),\n",
              " Data(x=[29, 9], edge_index=[2, 41], y=[29]),\n",
              " Data(x=[29, 9], edge_index=[2, 41], y=[29]),\n",
              " Data(x=[29, 9], edge_index=[2, 41], y=[29]),\n",
              " Data(x=[29, 9], edge_index=[2, 41], y=[29]),\n",
              " Data(x=[29, 9], edge_index=[2, 41], y=[29]),\n",
              " Data(x=[29, 9], edge_index=[2, 41], y=[29]),\n",
              " Data(x=[29, 9], edge_index=[2, 41], y=[29]),\n",
              " Data(x=[29, 9], edge_index=[2, 41], y=[29]),\n",
              " Data(x=[29, 9], edge_index=[2, 41], y=[29]),\n",
              " Data(x=[29, 9], edge_index=[2, 41], y=[29]),\n",
              " Data(x=[29, 9], edge_index=[2, 41], y=[29]),\n",
              " Data(x=[29, 9], edge_index=[2, 41], y=[29]),\n",
              " Data(x=[29, 9], edge_index=[2, 41], y=[29]),\n",
              " Data(x=[29, 9], edge_index=[2, 41], y=[29]),\n",
              " Data(x=[29, 9], edge_index=[2, 41], y=[29]),\n",
              " Data(x=[29, 9], edge_index=[2, 41], y=[29]),\n",
              " Data(x=[29, 9], edge_index=[2, 41], y=[29]),\n",
              " Data(x=[29, 9], edge_index=[2, 41], y=[29]),\n",
              " Data(x=[29, 9], edge_index=[2, 41], y=[29]),\n",
              " Data(x=[29, 9], edge_index=[2, 41], y=[29]),\n",
              " Data(x=[29, 9], edge_index=[2, 41], y=[29]),\n",
              " Data(x=[29, 9], edge_index=[2, 41], y=[29]),\n",
              " Data(x=[29, 9], edge_index=[2, 41], y=[29]),\n",
              " Data(x=[29, 9], edge_index=[2, 41], y=[29]),\n",
              " Data(x=[29, 9], edge_index=[2, 41], y=[29]),\n",
              " Data(x=[29, 9], edge_index=[2, 41], y=[29]),\n",
              " Data(x=[29, 9], edge_index=[2, 41], y=[29]),\n",
              " Data(x=[29, 9], edge_index=[2, 41], y=[29]),\n",
              " Data(x=[29, 9], edge_index=[2, 41], y=[29]),\n",
              " Data(x=[29, 9], edge_index=[2, 41], y=[29]),\n",
              " Data(x=[29, 9], edge_index=[2, 41], y=[29]),\n",
              " Data(x=[29, 9], edge_index=[2, 41], y=[29]),\n",
              " Data(x=[29, 9], edge_index=[2, 41], y=[29]),\n",
              " Data(x=[29, 9], edge_index=[2, 41], y=[29]),\n",
              " Data(x=[29, 9], edge_index=[2, 41], y=[29]),\n",
              " Data(x=[29, 9], edge_index=[2, 41], y=[29]),\n",
              " Data(x=[29, 9], edge_index=[2, 41], y=[29]),\n",
              " Data(x=[29, 9], edge_index=[2, 41], y=[29]),\n",
              " Data(x=[29, 9], edge_index=[2, 41], y=[29]),\n",
              " Data(x=[29, 9], edge_index=[2, 41], y=[29]),\n",
              " Data(x=[29, 9], edge_index=[2, 41], y=[29]),\n",
              " Data(x=[29, 9], edge_index=[2, 41], y=[29]),\n",
              " Data(x=[29, 9], edge_index=[2, 41], y=[29]),\n",
              " Data(x=[29, 9], edge_index=[2, 41], y=[29]),\n",
              " Data(x=[29, 9], edge_index=[2, 41], y=[29]),\n",
              " Data(x=[29, 9], edge_index=[2, 41], y=[29]),\n",
              " Data(x=[29, 9], edge_index=[2, 41], y=[29]),\n",
              " Data(x=[29, 9], edge_index=[2, 41], y=[29]),\n",
              " Data(x=[29, 9], edge_index=[2, 41], y=[29]),\n",
              " Data(x=[29, 9], edge_index=[2, 41], y=[29]),\n",
              " Data(x=[29, 9], edge_index=[2, 41], y=[29]),\n",
              " Data(x=[29, 9], edge_index=[2, 41], y=[29]),\n",
              " Data(x=[29, 9], edge_index=[2, 41], y=[29]),\n",
              " Data(x=[29, 9], edge_index=[2, 41], y=[29]),\n",
              " Data(x=[29, 9], edge_index=[2, 41], y=[29]),\n",
              " Data(x=[29, 9], edge_index=[2, 41], y=[29]),\n",
              " Data(x=[29, 9], edge_index=[2, 41], y=[29]),\n",
              " Data(x=[29, 9], edge_index=[2, 41], y=[29]),\n",
              " Data(x=[29, 9], edge_index=[2, 41], y=[29]),\n",
              " Data(x=[29, 9], edge_index=[2, 41], y=[29]),\n",
              " Data(x=[29, 9], edge_index=[2, 41], y=[29]),\n",
              " Data(x=[29, 9], edge_index=[2, 41], y=[29]),\n",
              " Data(x=[29, 9], edge_index=[2, 41], y=[29]),\n",
              " Data(x=[29, 9], edge_index=[2, 41], y=[29]),\n",
              " Data(x=[29, 9], edge_index=[2, 41], y=[29]),\n",
              " Data(x=[29, 9], edge_index=[2, 41], y=[29]),\n",
              " Data(x=[29, 9], edge_index=[2, 41], y=[29]),\n",
              " Data(x=[29, 9], edge_index=[2, 41], y=[29]),\n",
              " Data(x=[29, 9], edge_index=[2, 41], y=[29]),\n",
              " Data(x=[29, 9], edge_index=[2, 41], y=[29]),\n",
              " Data(x=[29, 9], edge_index=[2, 41], y=[29]),\n",
              " Data(x=[29, 9], edge_index=[2, 41], y=[29]),\n",
              " Data(x=[29, 9], edge_index=[2, 41], y=[29]),\n",
              " Data(x=[29, 9], edge_index=[2, 41], y=[29]),\n",
              " Data(x=[29, 9], edge_index=[2, 41], y=[29]),\n",
              " Data(x=[29, 9], edge_index=[2, 41], y=[29]),\n",
              " Data(x=[29, 9], edge_index=[2, 41], y=[29]),\n",
              " Data(x=[29, 9], edge_index=[2, 41], y=[29]),\n",
              " Data(x=[29, 9], edge_index=[2, 41], y=[29]),\n",
              " Data(x=[29, 9], edge_index=[2, 41], y=[29]),\n",
              " Data(x=[29, 9], edge_index=[2, 41], y=[29]),\n",
              " Data(x=[29, 9], edge_index=[2, 41], y=[29]),\n",
              " Data(x=[29, 9], edge_index=[2, 41], y=[29]),\n",
              " Data(x=[29, 9], edge_index=[2, 41], y=[29]),\n",
              " Data(x=[29, 9], edge_index=[2, 41], y=[29]),\n",
              " Data(x=[29, 9], edge_index=[2, 41], y=[29]),\n",
              " Data(x=[29, 9], edge_index=[2, 41], y=[29]),\n",
              " Data(x=[29, 9], edge_index=[2, 41], y=[29]),\n",
              " Data(x=[29, 9], edge_index=[2, 41], y=[29]),\n",
              " Data(x=[29, 9], edge_index=[2, 41], y=[29]),\n",
              " Data(x=[29, 9], edge_index=[2, 41], y=[29]),\n",
              " Data(x=[29, 9], edge_index=[2, 41], y=[29]),\n",
              " Data(x=[29, 9], edge_index=[2, 41], y=[29]),\n",
              " Data(x=[29, 9], edge_index=[2, 41], y=[29]),\n",
              " Data(x=[29, 9], edge_index=[2, 41], y=[29]),\n",
              " Data(x=[29, 9], edge_index=[2, 41], y=[29]),\n",
              " Data(x=[29, 9], edge_index=[2, 41], y=[29]),\n",
              " Data(x=[29, 9], edge_index=[2, 41], y=[29]),\n",
              " Data(x=[29, 9], edge_index=[2, 41], y=[29]),\n",
              " Data(x=[29, 9], edge_index=[2, 41], y=[29]),\n",
              " Data(x=[29, 9], edge_index=[2, 41], y=[29]),\n",
              " Data(x=[29, 9], edge_index=[2, 41], y=[29]),\n",
              " Data(x=[29, 9], edge_index=[2, 41], y=[29]),\n",
              " Data(x=[29, 9], edge_index=[2, 41], y=[29]),\n",
              " Data(x=[29, 9], edge_index=[2, 41], y=[29]),\n",
              " Data(x=[29, 9], edge_index=[2, 41], y=[29]),\n",
              " Data(x=[29, 9], edge_index=[2, 41], y=[29]),\n",
              " Data(x=[29, 9], edge_index=[2, 41], y=[29]),\n",
              " Data(x=[29, 9], edge_index=[2, 41], y=[29]),\n",
              " Data(x=[29, 9], edge_index=[2, 41], y=[29]),\n",
              " Data(x=[29, 9], edge_index=[2, 41], y=[29]),\n",
              " Data(x=[29, 9], edge_index=[2, 41], y=[29]),\n",
              " Data(x=[29, 9], edge_index=[2, 41], y=[29]),\n",
              " Data(x=[29, 9], edge_index=[2, 41], y=[29]),\n",
              " Data(x=[29, 9], edge_index=[2, 41], y=[29]),\n",
              " Data(x=[29, 9], edge_index=[2, 41], y=[29]),\n",
              " Data(x=[29, 9], edge_index=[2, 41], y=[29]),\n",
              " Data(x=[29, 9], edge_index=[2, 41], y=[29]),\n",
              " Data(x=[29, 9], edge_index=[2, 41], y=[29]),\n",
              " Data(x=[29, 9], edge_index=[2, 41], y=[29]),\n",
              " Data(x=[29, 9], edge_index=[2, 41], y=[29]),\n",
              " Data(x=[29, 9], edge_index=[2, 41], y=[29]),\n",
              " Data(x=[29, 9], edge_index=[2, 41], y=[29]),\n",
              " Data(x=[29, 9], edge_index=[2, 41], y=[29]),\n",
              " Data(x=[29, 9], edge_index=[2, 41], y=[29]),\n",
              " Data(x=[29, 9], edge_index=[2, 41], y=[29]),\n",
              " Data(x=[29, 9], edge_index=[2, 41], y=[29]),\n",
              " Data(x=[29, 9], edge_index=[2, 41], y=[29]),\n",
              " Data(x=[29, 9], edge_index=[2, 41], y=[29]),\n",
              " Data(x=[29, 9], edge_index=[2, 41], y=[29]),\n",
              " Data(x=[29, 9], edge_index=[2, 41], y=[29]),\n",
              " Data(x=[29, 9], edge_index=[2, 41], y=[29]),\n",
              " ...]"
            ]
          },
          "metadata": {},
          "execution_count": 37
        }
      ]
    },
    {
      "cell_type": "code",
      "source": [
        "loader = DataLoader(data_list, batch_size=pyg_dataset.num_nodes, shuffle=False)"
      ],
      "metadata": {
        "colab": {
          "base_uri": "https://localhost:8080/"
        },
        "id": "dWF6prK9mWVe",
        "outputId": "f53fcf46-73b8-4ad6-c79e-8238914bdeba"
      },
      "execution_count": 38,
      "outputs": [
        {
          "output_type": "stream",
          "name": "stderr",
          "text": [
            "/usr/local/lib/python3.10/dist-packages/torch_geometric/deprecation.py:26: UserWarning: 'data.DataLoader' is deprecated, use 'loader.DataLoader' instead\n",
            "  warnings.warn(out)\n"
          ]
        }
      ]
    },
    {
      "cell_type": "markdown",
      "source": [
        "#Build models"
      ],
      "metadata": {
        "id": "v7iKUu_g7MBD"
      }
    },
    {
      "cell_type": "code",
      "source": [
        "class DirectedGCN(torch.nn.Module):\n",
        "    def __init__(self, input_features, hidden_dim, output_classes):\n",
        "        super(DirectedGCN, self).__init__()\n",
        "        self.conv1 = GCNConv(input_features, hidden_dim, improved=True)  #improved option for directed graphs\n",
        "        self.conv2 = GCNConv(hidden_dim, output_classes, improved=True)\n",
        "        self.dropout = torch.nn.Dropout(p=0.5)\n",
        "\n",
        "    def forward(self, data):\n",
        "        x, edge_index = data.x, data.edge_index\n",
        "\n",
        "        x = self.conv1(x, edge_index)\n",
        "        x = F.relu(x)\n",
        "        x = self.dropout(x)\n",
        "\n",
        "        x = self.conv2(x, edge_index)\n",
        "        return F.log_softmax(x, dim=1)\n"
      ],
      "metadata": {
        "id": "0sh-dPoH7Lqr"
      },
      "execution_count": 39,
      "outputs": []
    },
    {
      "cell_type": "code",
      "source": [
        "class DirectedGraphSAGE(torch.nn.Module):\n",
        "    def __init__(self, input_features, hidden_dim, output_classes):\n",
        "        super(DirectedGraphSAGE, self).__init__()\n",
        "        self.conv1 = SAGEConv(input_features, hidden_dim)\n",
        "        self.conv2 = SAGEConv(hidden_dim, output_classes)\n",
        "        self.dropout = torch.nn.Dropout(p=0.5)\n",
        "\n",
        "    def forward(self, data):\n",
        "        x, edge_index = data.x, data.edge_index\n",
        "\n",
        "        x = self.conv1(x, edge_index)\n",
        "        x = F.relu(x)\n",
        "        x = self.dropout(x)\n",
        "\n",
        "        x = self.conv2(x, edge_index)\n",
        "        return F.log_softmax(x, dim=1)"
      ],
      "metadata": {
        "id": "s2iqjGevFCK-"
      },
      "execution_count": 40,
      "outputs": []
    },
    {
      "cell_type": "code",
      "source": [
        "class DirectedGAT(torch.nn.Module):\n",
        "    def __init__(self, input_features, hidden_dim, output_classes, heads=18):\n",
        "        super(DirectedGAT, self).__init__()\n",
        "        self.conv1 = GATConv(input_features, hidden_dim, heads=heads, concat=True)\n",
        "        self.conv2 = GATConv(hidden_dim * heads, output_classes, heads=1, concat=False)\n",
        "        self.dropout = torch.nn.Dropout(p=0.5)\n",
        "\n",
        "    def forward(self, data):\n",
        "        x, edge_index = data.x, data.edge_index\n",
        "\n",
        "        x = self.conv1(x, edge_index)\n",
        "        x = F.relu(x)\n",
        "        x = self.dropout(x)\n",
        "\n",
        "        x = self.conv2(x, edge_index)\n",
        "        return F.log_softmax(x, dim=1)\n"
      ],
      "metadata": {
        "id": "NoA3wv_AQqSw"
      },
      "execution_count": 41,
      "outputs": []
    },
    {
      "cell_type": "markdown",
      "source": [
        "#Train and evaluate models"
      ],
      "metadata": {
        "id": "HR7mKapo7TAa"
      }
    },
    {
      "cell_type": "code",
      "source": [
        "from sklearn.metrics import precision_score, recall_score, f1_score, roc_auc_score, confusion_matrix, classification_report\n",
        "import seaborn as sns"
      ],
      "metadata": {
        "id": "kf-HsmllEUAK"
      },
      "execution_count": 42,
      "outputs": []
    },
    {
      "cell_type": "code",
      "source": [
        "pyg_dataset.num_graphs"
      ],
      "metadata": {
        "colab": {
          "base_uri": "https://localhost:8080/"
        },
        "id": "sgf-wtkWo4kD",
        "outputId": "b0c365f4-4ddb-411e-b9d1-a05aa974eda1"
      },
      "execution_count": 43,
      "outputs": [
        {
          "output_type": "execute_result",
          "data": {
            "text/plain": [
              "9141"
            ]
          },
          "metadata": {},
          "execution_count": 43
        }
      ]
    },
    {
      "cell_type": "code",
      "source": [
        "input_features = pyg_dataset.feature_dimension\n",
        "hidden_dim = input_features * 2\n",
        "output_classes = pyg_dataset.num_classes"
      ],
      "metadata": {
        "id": "Gd-zxyCsmlfx"
      },
      "execution_count": 44,
      "outputs": []
    },
    {
      "cell_type": "code",
      "source": [
        "MODELS = {\n",
        "    'DirectedGCN': DirectedGCN,\n",
        "    'DirectedGraphSAGE': DirectedGraphSAGE,\n",
        "    'DirectedGAT': DirectedGAT,\n",
        "    #'GRNN': GRNN\n",
        "}"
      ],
      "metadata": {
        "id": "9WFDRvCrHepZ"
      },
      "execution_count": 45,
      "outputs": []
    },
    {
      "cell_type": "code",
      "source": [
        "def apply_model(model_name, input_features, hidden_dim, output_classes):\n",
        "    model = MODELS[model_name](input_features, hidden_dim, output_classes)\n",
        "    return model, model_name"
      ],
      "metadata": {
        "id": "x85IoewuH79l"
      },
      "execution_count": 46,
      "outputs": []
    },
    {
      "cell_type": "code",
      "source": [
        "def train(model, loader, num_epoch, verbose, lr=0.01, weight_decay=5e-4, loss_function=F.nll_loss):\n",
        "    optimizer = torch.optim.Adam(model.parameters(), lr=lr, weight_decay=weight_decay)  # Define optimizer once\n",
        "    for epoch in range(num_epoch):\n",
        "        for data in loader:\n",
        "            optimizer.zero_grad()\n",
        "            #forward\n",
        "            data.x = data.x.float()\n",
        "            out = model(data)  #output = [85,2] <- [17, 5] graphs 2 classes of labels\n",
        "\n",
        "            #node-level labels loss\n",
        "            loss = loss_function(out, data.y)  #data.y = [85,]\n",
        "\n",
        "            #backpropagration\n",
        "            loss.backward()\n",
        "            optimizer.step()\n",
        "        if verbose:\n",
        "            print(f'Epoch {epoch+1}, Loss: {loss.item():.4f}')\n"
      ],
      "metadata": {
        "id": "UfHWCwKcOnjk"
      },
      "execution_count": 47,
      "outputs": []
    },
    {
      "cell_type": "code",
      "source": [
        "def evaluate(model, model_name, loader, plt_confusion_matrix = True):\n",
        "    model.eval()\n",
        "    preds = []\n",
        "    targets = []\n",
        "\n",
        "    with torch.no_grad():  # Disable gradient tracking\n",
        "        for data in loader:\n",
        "            data.x = data.x.float()  # Ensure features are in float format\n",
        "            out = model(data)  # Forward pass\n",
        "            pred = out.argmax(dim=1)  # Get predictions\n",
        "            preds.append(pred.cpu())  # Store predictions on CPU\n",
        "            targets.append(data.y.cpu())  # Store true labels on CPU\n",
        "\n",
        "    preds = torch.cat(preds)\n",
        "    targets = torch.cat(targets)\n",
        "\n",
        "    report = classification_report(targets, preds, digits=4, zero_division=0)\n",
        "    print(f'Model: {model_name}')\n",
        "    print(report)\n",
        "\n",
        "    if plt_confusion_matrix:\n",
        "      generate_cm(targets, preds, model_name)"
      ],
      "metadata": {
        "id": "es4ZVoKWGB05"
      },
      "execution_count": 48,
      "outputs": []
    },
    {
      "cell_type": "code",
      "source": [
        "def generate_cm(y_true, y_pred, model_name):\n",
        "  cm = confusion_matrix(y_true, y_pred)\n",
        "\n",
        "  sns.heatmap(cm, annot=True, fmt='d', cmap='Blues')\n",
        "  plt.xlabel('Predicted Label')\n",
        "  plt.ylabel('True Label')\n",
        "  plt.title(f'{model_name} Confusion Matrix')\n",
        "  plt.show()"
      ],
      "metadata": {
        "id": "aNKQNLcJGKqG"
      },
      "execution_count": 49,
      "outputs": []
    },
    {
      "cell_type": "markdown",
      "source": [
        "# Compare models"
      ],
      "metadata": {
        "id": "iLQP2QnbTHIT"
      }
    },
    {
      "cell_type": "markdown",
      "source": [
        "**Precision**: Measures the accuracy of positive predictions.\n",
        "\n",
        "**Recall**: Measures the model’s ability to find all relevant instances of each class.\n",
        "\n",
        "**F1-Score**: The harmonic mean of precision and recall, which balances the two metrics.\n",
        "\n",
        "**Support**: The number of true instances for each class.\n",
        "\n",
        "**Macro Average**: Takes the average of each metric without considering the class support, providing an unweighted view.\n",
        "\n",
        "**Weighted Average**: Takes the average of each metric, weighted by the number of instances in each class."
      ],
      "metadata": {
        "id": "y-jc0DrE2e0A"
      }
    },
    {
      "cell_type": "code",
      "source": [
        "model1, model_name1 = apply_model(list(MODELS.keys())[0], input_features, hidden_dim, output_classes)\n",
        "train(model1, loader, 1, verbose=False)\n",
        "evaluate(model1, model_name1, loader)"
      ],
      "metadata": {
        "colab": {
          "base_uri": "https://localhost:8080/",
          "height": 646
        },
        "collapsed": true,
        "id": "m3dyutDOTKxv",
        "outputId": "b0371b44-422b-4380-9c55-4acb2e01ba50"
      },
      "execution_count": 50,
      "outputs": [
        {
          "output_type": "stream",
          "name": "stdout",
          "text": [
            "Model: DirectedGCN\n",
            "              precision    recall  f1-score   support\n",
            "\n",
            "           0     0.9922    1.0000    0.9961    263010\n",
            "           1     0.0000    0.0000    0.0000      2079\n",
            "\n",
            "    accuracy                         0.9922    265089\n",
            "   macro avg     0.4961    0.5000    0.4980    265089\n",
            "weighted avg     0.9844    0.9922    0.9883    265089\n",
            "\n"
          ]
        },
        {
          "output_type": "display_data",
          "data": {
            "text/plain": [
              "<Figure size 640x480 with 2 Axes>"
            ],
            "image/png": "[encoded data removed]"
          },
          "metadata": {}
        }
      ]
    },
    {
      "cell_type": "code",
      "source": [
        "model1"
      ],
      "metadata": {
        "colab": {
          "base_uri": "https://localhost:8080/"
        },
        "id": "zNpW6x_u-M_T",
        "outputId": "605d7d9a-a6e9-4f6e-edd9-55a90932e809"
      },
      "execution_count": 52,
      "outputs": [
        {
          "output_type": "execute_result",
          "data": {
            "text/plain": [
              "DirectedGCN(\n",
              "  (conv1): GCNConv(9, 18)\n",
              "  (conv2): GCNConv(18, 2)\n",
              "  (dropout): Dropout(p=0.5, inplace=False)\n",
              ")"
            ]
          },
          "metadata": {},
          "execution_count": 52
        }
      ]
    },
    {
      "cell_type": "code",
      "source": [
        "model2, model_name2 = apply_model(list(MODELS.keys())[1], input_features, hidden_dim, output_classes)\n",
        "train(model2, loader, 1, verbose=False)\n",
        "evaluate(model2, model_name2, loader)"
      ],
      "metadata": {
        "colab": {
          "base_uri": "https://localhost:8080/",
          "height": 646
        },
        "id": "nKTJL_773bxt",
        "outputId": "f3d463d7-4d38-451a-ad7d-5b0416a302b4"
      },
      "execution_count": 53,
      "outputs": [
        {
          "output_type": "stream",
          "name": "stdout",
          "text": [
            "Model: DirectedGraphSAGE\n",
            "              precision    recall  f1-score   support\n",
            "\n",
            "           0     0.9922    1.0000    0.9961    263010\n",
            "           1     0.0000    0.0000    0.0000      2079\n",
            "\n",
            "    accuracy                         0.9922    265089\n",
            "   macro avg     0.4961    0.5000    0.4980    265089\n",
            "weighted avg     0.9844    0.9922    0.9883    265089\n",
            "\n"
          ]
        },
        {
          "output_type": "display_data",
          "data": {
            "text/plain": [
              "<Figure size 640x480 with 2 Axes>"
            ],
            "image/png": "[encoded data removed]"
          },
          "metadata": {}
        }
      ]
    },
    {
      "cell_type": "code",
      "source": [
        "model2"
      ],
      "metadata": {
        "colab": {
          "base_uri": "https://localhost:8080/"
        },
        "id": "_41F1Zax-ZZK",
        "outputId": "8406ed77-0bf8-4863-fce4-30673917d4dc"
      },
      "execution_count": 54,
      "outputs": [
        {
          "output_type": "execute_result",
          "data": {
            "text/plain": [
              "DirectedGraphSAGE(\n",
              "  (conv1): SAGEConv(9, 18, aggr=mean)\n",
              "  (conv2): SAGEConv(18, 2, aggr=mean)\n",
              "  (dropout): Dropout(p=0.5, inplace=False)\n",
              ")"
            ]
          },
          "metadata": {},
          "execution_count": 54
        }
      ]
    },
    {
      "cell_type": "code",
      "source": [
        "model3, model_name3 = apply_model(list(MODELS.keys())[2], input_features, hidden_dim, output_classes)\n",
        "train(model3, loader, 1, verbose=False)\n",
        "evaluate(model3, model_name3, loader)"
      ],
      "metadata": {
        "colab": {
          "base_uri": "https://localhost:8080/",
          "height": 646
        },
        "id": "j9DMY43E3cVb",
        "outputId": "0efb1fb6-15cf-4ed2-b9bf-182344515094"
      },
      "execution_count": 55,
      "outputs": [
        {
          "output_type": "stream",
          "name": "stdout",
          "text": [
            "Model: DirectedGAT\n",
            "              precision    recall  f1-score   support\n",
            "\n",
            "           0     0.9922    1.0000    0.9961    263010\n",
            "           1     0.0000    0.0000    0.0000      2079\n",
            "\n",
            "    accuracy                         0.9922    265089\n",
            "   macro avg     0.4961    0.5000    0.4980    265089\n",
            "weighted avg     0.9844    0.9922    0.9883    265089\n",
            "\n"
          ]
        },
        {
          "output_type": "display_data",
          "data": {
            "text/plain": [
              "<Figure size 640x480 with 2 Axes>"
            ],
            "image/png": "[encoded data removed]"
          },
          "metadata": {}
        }
      ]
    },
    {
      "cell_type": "code",
      "source": [
        "model3"
      ],
      "metadata": {
        "colab": {
          "base_uri": "https://localhost:8080/"
        },
        "id": "rWP5vkpl-eLa",
        "outputId": "3f32d29d-5052-4cca-bb3d-fc150fb2f7de"
      },
      "execution_count": 56,
      "outputs": [
        {
          "output_type": "execute_result",
          "data": {
            "text/plain": [
              "DirectedGAT(\n",
              "  (conv1): GATConv(9, 18, heads=18)\n",
              "  (conv2): GATConv(324, 2, heads=1)\n",
              "  (dropout): Dropout(p=0.5, inplace=False)\n",
              ")"
            ]
          },
          "metadata": {},
          "execution_count": 56
        }
      ]
    }
  ]
}